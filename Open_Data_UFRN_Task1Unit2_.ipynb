{
  "nbformat": 4,
  "nbformat_minor": 0,
  "metadata": {
    "colab": {
      "name": "Open Data UFRN-Task1Unit2 .ipynb",
      "version": "0.3.2",
      "provenance": [],
      "collapsed_sections": []
    },
    "kernelspec": {
      "name": "python3",
      "display_name": "Python 3"
    }
  },
  "cells": [
    {
      "metadata": {
        "id": "HieS4-O9KAzA",
        "colab_type": "text"
      },
      "cell_type": "markdown",
      "source": [
        "# 1. Introduction and Cleaning Data\n"
      ]
    },
    {
      "metadata": {
        "id": "d2pxygOmY5Do",
        "colab_type": "text"
      },
      "cell_type": "markdown",
      "source": [
        "We decide to study about the relations between the number of enrollments in a semester and the academic efficiency of the student. So we want to verify if exists a relation between those informations. "
      ]
    },
    {
      "metadata": {
        "id": "32BjvjRw_LSw",
        "colab_type": "text"
      },
      "cell_type": "markdown",
      "source": [
        "First of all, we have to import the libraries that we are going to use to manipulate the data."
      ]
    },
    {
      "metadata": {
        "id": "6ezCV0h8bOdl",
        "colab_type": "code",
        "colab": {}
      },
      "cell_type": "code",
      "source": [
        "#Importing libraries\n",
        "import pandas as pd\n",
        "import matplotlib.pyplot as plt\n",
        "import seaborn as sns\n",
        "import numpy as np"
      ],
      "execution_count": 0,
      "outputs": []
    },
    {
      "metadata": {
        "id": "k5E9g9bzOV4F",
        "colab_type": "text"
      },
      "cell_type": "markdown",
      "source": [
        "After import pandas, we use its function *read_csv* to read each csv file with information about classes and enrollments from 2016 and 2017 that we found on Open Data Portal of UFRN."
      ]
    },
    {
      "metadata": {
        "id": "izzdxqxAapwQ",
        "colab_type": "code",
        "outputId": "2c509f3f-6855-4da3-dec1-65b53d609dfd",
        "colab": {
          "base_uri": "https://localhost:8080/",
          "height": 1118
        }
      },
      "cell_type": "code",
      "source": [
        "#Reading courses data csv\n",
        "allcourses_ = pd.read_csv('http://dados.ufrn.br/dataset/08b0dc59-faa9-4281-bd1e-2a39f532489e/resource/949be3d1-e85b-4d0f-9f60-1d9a7484bb06/download/cursos-ufrn.csv',sep=';')\n",
        "\n",
        "#Reading classes data csvs \n",
        "classes20161_ = pd.read_csv('http://dados.ufrn.br/dataset/1938623d-fb07-41a4-a55a-1691f7c3b8b5/resource/322d9977-ba15-47f1-8216-75a1ca78e197/download/turmas-2016.1.csv', sep=';')\n",
        "classes20162_ = pd.read_csv('http://dados.ufrn.br/dataset/1938623d-fb07-41a4-a55a-1691f7c3b8b5/resource/5e8e3228-7f22-40a2-9efd-561c44844567/download/turmas-2016.2.csv', sep=';')\n",
        "classes20171_ = pd.read_csv('http://dados.ufrn.br/dataset/1938623d-fb07-41a4-a55a-1691f7c3b8b5/resource/5e77d066-d506-45eb-a21e-76aa79616fef/download/turmas-2017.1.csv', sep=';')\n",
        "classes20172_ = pd.read_csv('http://dados.ufrn.br/dataset/1938623d-fb07-41a4-a55a-1691f7c3b8b5/resource/01fe7343-fdf0-4a67-b915-2386b7c2fecb/download/turmas-2017.2.csv', sep=';')\n",
        "\n",
        "\n",
        "#Reading enrollments data csvs\n",
        "enrollments20161_ = pd.read_csv('http://dados.ufrn.br/dataset/c8650d55-3c5a-4787-a126-d28a4ef902a6/resource/4778d3ce-8898-46a8-a623-ee6a480a2980/download/matriculas-de-2016.1.csv', sep=';')\n",
        "enrollments20162_ = pd.read_csv('http://dados.ufrn.br/dataset/c8650d55-3c5a-4787-a126-d28a4ef902a6/resource/f6179838-b619-4d7d-af9c-18c438b80dd4/download/matriculas-de-2016.2.csv', sep=';')\n",
        "enrollments20171_ = pd.read_csv('http://dados.ufrn.br/dataset/c8650d55-3c5a-4787-a126-d28a4ef902a6/resource/79071c21-e32c-438f-b930-d1b6ccc02ec2/download/matricula-componente-20171.csv', sep=';')\n",
        "enrollments20172_ = pd.read_csv('http://dados.ufrn.br/dataset/c8650d55-3c5a-4787-a126-d28a4ef902a6/resource/55dfe713-ff7c-4fa8-8d1d-d4294a025bff/download/matricula-componente-20172.csv', sep=';')\n"
      ],
      "execution_count": 0,
      "outputs": [
        {
          "output_type": "error",
          "ename": "KeyboardInterrupt",
          "evalue": "ignored",
          "traceback": [
            "\u001b[0;31m---------------------------------------------------------------------------\u001b[0m",
            "\u001b[0;31mKeyboardInterrupt\u001b[0m                         Traceback (most recent call last)",
            "\u001b[0;32m<ipython-input-44-3eb9eafee036>\u001b[0m in \u001b[0;36m<module>\u001b[0;34m()\u001b[0m\n\u001b[1;32m      3\u001b[0m \u001b[0;31m#Reading classes data csvs\u001b[0m\u001b[0;34m\u001b[0m\u001b[0;34m\u001b[0m\u001b[0;34m\u001b[0m\u001b[0m\n\u001b[1;32m      4\u001b[0m \u001b[0mclasses20161_\u001b[0m \u001b[0;34m=\u001b[0m \u001b[0mpd\u001b[0m\u001b[0;34m.\u001b[0m\u001b[0mread_csv\u001b[0m\u001b[0;34m(\u001b[0m\u001b[0;34m'http://dados.ufrn.br/dataset/1938623d-fb07-41a4-a55a-1691f7c3b8b5/resource/322d9977-ba15-47f1-8216-75a1ca78e197/download/turmas-2016.1.csv'\u001b[0m\u001b[0;34m,\u001b[0m \u001b[0msep\u001b[0m\u001b[0;34m=\u001b[0m\u001b[0;34m';'\u001b[0m\u001b[0;34m)\u001b[0m\u001b[0;34m\u001b[0m\u001b[0;34m\u001b[0m\u001b[0m\n\u001b[0;32m----> 5\u001b[0;31m \u001b[0mclasses20162_\u001b[0m \u001b[0;34m=\u001b[0m \u001b[0mpd\u001b[0m\u001b[0;34m.\u001b[0m\u001b[0mread_csv\u001b[0m\u001b[0;34m(\u001b[0m\u001b[0;34m'http://dados.ufrn.br/dataset/1938623d-fb07-41a4-a55a-1691f7c3b8b5/resource/5e8e3228-7f22-40a2-9efd-561c44844567/download/turmas-2016.2.csv'\u001b[0m\u001b[0;34m,\u001b[0m \u001b[0msep\u001b[0m\u001b[0;34m=\u001b[0m\u001b[0;34m';'\u001b[0m\u001b[0;34m)\u001b[0m\u001b[0;34m\u001b[0m\u001b[0;34m\u001b[0m\u001b[0m\n\u001b[0m\u001b[1;32m      6\u001b[0m \u001b[0mclasses20171_\u001b[0m \u001b[0;34m=\u001b[0m \u001b[0mpd\u001b[0m\u001b[0;34m.\u001b[0m\u001b[0mread_csv\u001b[0m\u001b[0;34m(\u001b[0m\u001b[0;34m'http://dados.ufrn.br/dataset/1938623d-fb07-41a4-a55a-1691f7c3b8b5/resource/5e77d066-d506-45eb-a21e-76aa79616fef/download/turmas-2017.1.csv'\u001b[0m\u001b[0;34m,\u001b[0m \u001b[0msep\u001b[0m\u001b[0;34m=\u001b[0m\u001b[0;34m';'\u001b[0m\u001b[0;34m)\u001b[0m\u001b[0;34m\u001b[0m\u001b[0;34m\u001b[0m\u001b[0m\n\u001b[1;32m      7\u001b[0m \u001b[0mclasses20172_\u001b[0m \u001b[0;34m=\u001b[0m \u001b[0mpd\u001b[0m\u001b[0;34m.\u001b[0m\u001b[0mread_csv\u001b[0m\u001b[0;34m(\u001b[0m\u001b[0;34m'http://dados.ufrn.br/dataset/1938623d-fb07-41a4-a55a-1691f7c3b8b5/resource/01fe7343-fdf0-4a67-b915-2386b7c2fecb/download/turmas-2017.2.csv'\u001b[0m\u001b[0;34m,\u001b[0m \u001b[0msep\u001b[0m\u001b[0;34m=\u001b[0m\u001b[0;34m';'\u001b[0m\u001b[0;34m)\u001b[0m\u001b[0;34m\u001b[0m\u001b[0;34m\u001b[0m\u001b[0m\n",
            "\u001b[0;32m/usr/local/lib/python3.6/dist-packages/pandas/io/parsers.py\u001b[0m in \u001b[0;36mparser_f\u001b[0;34m(filepath_or_buffer, sep, delimiter, header, names, index_col, usecols, squeeze, prefix, mangle_dupe_cols, dtype, engine, converters, true_values, false_values, skipinitialspace, skiprows, nrows, na_values, keep_default_na, na_filter, verbose, skip_blank_lines, parse_dates, infer_datetime_format, keep_date_col, date_parser, dayfirst, iterator, chunksize, compression, thousands, decimal, lineterminator, quotechar, quoting, escapechar, comment, encoding, dialect, tupleize_cols, error_bad_lines, warn_bad_lines, skipfooter, doublequote, delim_whitespace, low_memory, memory_map, float_precision)\u001b[0m\n\u001b[1;32m    676\u001b[0m                     skip_blank_lines=skip_blank_lines)\n\u001b[1;32m    677\u001b[0m \u001b[0;34m\u001b[0m\u001b[0m\n\u001b[0;32m--> 678\u001b[0;31m         \u001b[0;32mreturn\u001b[0m \u001b[0m_read\u001b[0m\u001b[0;34m(\u001b[0m\u001b[0mfilepath_or_buffer\u001b[0m\u001b[0;34m,\u001b[0m \u001b[0mkwds\u001b[0m\u001b[0;34m)\u001b[0m\u001b[0;34m\u001b[0m\u001b[0;34m\u001b[0m\u001b[0m\n\u001b[0m\u001b[1;32m    679\u001b[0m \u001b[0;34m\u001b[0m\u001b[0m\n\u001b[1;32m    680\u001b[0m     \u001b[0mparser_f\u001b[0m\u001b[0;34m.\u001b[0m\u001b[0m__name__\u001b[0m \u001b[0;34m=\u001b[0m \u001b[0mname\u001b[0m\u001b[0;34m\u001b[0m\u001b[0;34m\u001b[0m\u001b[0m\n",
            "\u001b[0;32m/usr/local/lib/python3.6/dist-packages/pandas/io/parsers.py\u001b[0m in \u001b[0;36m_read\u001b[0;34m(filepath_or_buffer, kwds)\u001b[0m\n\u001b[1;32m    444\u001b[0m \u001b[0;34m\u001b[0m\u001b[0m\n\u001b[1;32m    445\u001b[0m     \u001b[0;32mtry\u001b[0m\u001b[0;34m:\u001b[0m\u001b[0;34m\u001b[0m\u001b[0;34m\u001b[0m\u001b[0m\n\u001b[0;32m--> 446\u001b[0;31m         \u001b[0mdata\u001b[0m \u001b[0;34m=\u001b[0m \u001b[0mparser\u001b[0m\u001b[0;34m.\u001b[0m\u001b[0mread\u001b[0m\u001b[0;34m(\u001b[0m\u001b[0mnrows\u001b[0m\u001b[0;34m)\u001b[0m\u001b[0;34m\u001b[0m\u001b[0;34m\u001b[0m\u001b[0m\n\u001b[0m\u001b[1;32m    447\u001b[0m     \u001b[0;32mfinally\u001b[0m\u001b[0;34m:\u001b[0m\u001b[0;34m\u001b[0m\u001b[0;34m\u001b[0m\u001b[0m\n\u001b[1;32m    448\u001b[0m         \u001b[0mparser\u001b[0m\u001b[0;34m.\u001b[0m\u001b[0mclose\u001b[0m\u001b[0;34m(\u001b[0m\u001b[0;34m)\u001b[0m\u001b[0;34m\u001b[0m\u001b[0;34m\u001b[0m\u001b[0m\n",
            "\u001b[0;32m/usr/local/lib/python3.6/dist-packages/pandas/io/parsers.py\u001b[0m in \u001b[0;36mread\u001b[0;34m(self, nrows)\u001b[0m\n\u001b[1;32m   1034\u001b[0m                 \u001b[0;32mraise\u001b[0m \u001b[0mValueError\u001b[0m\u001b[0;34m(\u001b[0m\u001b[0;34m'skipfooter not supported for iteration'\u001b[0m\u001b[0;34m)\u001b[0m\u001b[0;34m\u001b[0m\u001b[0;34m\u001b[0m\u001b[0m\n\u001b[1;32m   1035\u001b[0m \u001b[0;34m\u001b[0m\u001b[0m\n\u001b[0;32m-> 1036\u001b[0;31m         \u001b[0mret\u001b[0m \u001b[0;34m=\u001b[0m \u001b[0mself\u001b[0m\u001b[0;34m.\u001b[0m\u001b[0m_engine\u001b[0m\u001b[0;34m.\u001b[0m\u001b[0mread\u001b[0m\u001b[0;34m(\u001b[0m\u001b[0mnrows\u001b[0m\u001b[0;34m)\u001b[0m\u001b[0;34m\u001b[0m\u001b[0;34m\u001b[0m\u001b[0m\n\u001b[0m\u001b[1;32m   1037\u001b[0m \u001b[0;34m\u001b[0m\u001b[0m\n\u001b[1;32m   1038\u001b[0m         \u001b[0;31m# May alter columns / col_dict\u001b[0m\u001b[0;34m\u001b[0m\u001b[0;34m\u001b[0m\u001b[0;34m\u001b[0m\u001b[0m\n",
            "\u001b[0;32m/usr/local/lib/python3.6/dist-packages/pandas/io/parsers.py\u001b[0m in \u001b[0;36mread\u001b[0;34m(self, nrows)\u001b[0m\n\u001b[1;32m   1846\u001b[0m     \u001b[0;32mdef\u001b[0m \u001b[0mread\u001b[0m\u001b[0;34m(\u001b[0m\u001b[0mself\u001b[0m\u001b[0;34m,\u001b[0m \u001b[0mnrows\u001b[0m\u001b[0;34m=\u001b[0m\u001b[0;32mNone\u001b[0m\u001b[0;34m)\u001b[0m\u001b[0;34m:\u001b[0m\u001b[0;34m\u001b[0m\u001b[0;34m\u001b[0m\u001b[0m\n\u001b[1;32m   1847\u001b[0m         \u001b[0;32mtry\u001b[0m\u001b[0;34m:\u001b[0m\u001b[0;34m\u001b[0m\u001b[0;34m\u001b[0m\u001b[0m\n\u001b[0;32m-> 1848\u001b[0;31m             \u001b[0mdata\u001b[0m \u001b[0;34m=\u001b[0m \u001b[0mself\u001b[0m\u001b[0;34m.\u001b[0m\u001b[0m_reader\u001b[0m\u001b[0;34m.\u001b[0m\u001b[0mread\u001b[0m\u001b[0;34m(\u001b[0m\u001b[0mnrows\u001b[0m\u001b[0;34m)\u001b[0m\u001b[0;34m\u001b[0m\u001b[0;34m\u001b[0m\u001b[0m\n\u001b[0m\u001b[1;32m   1849\u001b[0m         \u001b[0;32mexcept\u001b[0m \u001b[0mStopIteration\u001b[0m\u001b[0;34m:\u001b[0m\u001b[0;34m\u001b[0m\u001b[0;34m\u001b[0m\u001b[0m\n\u001b[1;32m   1850\u001b[0m             \u001b[0;32mif\u001b[0m \u001b[0mself\u001b[0m\u001b[0;34m.\u001b[0m\u001b[0m_first_chunk\u001b[0m\u001b[0;34m:\u001b[0m\u001b[0;34m\u001b[0m\u001b[0;34m\u001b[0m\u001b[0m\n",
            "\u001b[0;32mpandas/_libs/parsers.pyx\u001b[0m in \u001b[0;36mpandas._libs.parsers.TextReader.read\u001b[0;34m()\u001b[0m\n",
            "\u001b[0;32mpandas/_libs/parsers.pyx\u001b[0m in \u001b[0;36mpandas._libs.parsers.TextReader._read_low_memory\u001b[0;34m()\u001b[0m\n",
            "\u001b[0;32mpandas/_libs/parsers.pyx\u001b[0m in \u001b[0;36mpandas._libs.parsers.TextReader._read_rows\u001b[0;34m()\u001b[0m\n",
            "\u001b[0;32mpandas/_libs/parsers.pyx\u001b[0m in \u001b[0;36mpandas._libs.parsers.TextReader._convert_column_data\u001b[0;34m()\u001b[0m\n",
            "\u001b[0;32mpandas/_libs/parsers.pyx\u001b[0m in \u001b[0;36mpandas._libs.parsers.TextReader._convert_tokens\u001b[0;34m()\u001b[0m\n",
            "\u001b[0;32mpandas/_libs/parsers.pyx\u001b[0m in \u001b[0;36mpandas._libs.parsers.TextReader._convert_with_dtype\u001b[0;34m()\u001b[0m\n",
            "\u001b[0;32m/usr/local/lib/python3.6/dist-packages/pandas/core/dtypes/common.py\u001b[0m in \u001b[0;36mis_integer_dtype\u001b[0;34m(arr_or_dtype)\u001b[0m\n\u001b[1;32m    809\u001b[0m \u001b[0;34m\u001b[0m\u001b[0m\n\u001b[1;32m    810\u001b[0m \u001b[0;34m\u001b[0m\u001b[0m\n\u001b[0;32m--> 811\u001b[0;31m \u001b[0;32mdef\u001b[0m \u001b[0mis_integer_dtype\u001b[0m\u001b[0;34m(\u001b[0m\u001b[0marr_or_dtype\u001b[0m\u001b[0;34m)\u001b[0m\u001b[0;34m:\u001b[0m\u001b[0;34m\u001b[0m\u001b[0;34m\u001b[0m\u001b[0m\n\u001b[0m\u001b[1;32m    812\u001b[0m     \"\"\"\n\u001b[1;32m    813\u001b[0m     \u001b[0mCheck\u001b[0m \u001b[0mwhether\u001b[0m \u001b[0mthe\u001b[0m \u001b[0mprovided\u001b[0m \u001b[0marray\u001b[0m \u001b[0;32mor\u001b[0m \u001b[0mdtype\u001b[0m \u001b[0;32mis\u001b[0m \u001b[0mof\u001b[0m \u001b[0man\u001b[0m \u001b[0minteger\u001b[0m \u001b[0mdtype\u001b[0m\u001b[0;34m.\u001b[0m\u001b[0;34m\u001b[0m\u001b[0;34m\u001b[0m\u001b[0m\n",
            "\u001b[0;31mKeyboardInterrupt\u001b[0m: "
          ]
        }
      ]
    },
    {
      "metadata": {
        "id": "-QMw5CDx7ezt",
        "colab_type": "code",
        "colab": {}
      },
      "cell_type": "code",
      "source": [
        "#deletar \n",
        "allcourses = allcourses_\n",
        "\n",
        "classes20161 = classes20161_\n",
        "classes20162 = classes20162_\n",
        "classes20171 = classes20171_\n",
        "classes20172 = classes20172_\n",
        "\n",
        "#Reading enrollments data csvs\n",
        "enrollments20161 = enrollments20161_\n",
        "enrollments20162 = enrollments20162_\n",
        "enrollments20171 = enrollments20171_\n",
        "enrollments20172 = enrollments20172_\n"
      ],
      "execution_count": 0,
      "outputs": []
    },
    {
      "metadata": {
        "id": "5kwB_ZH5Q7jw",
        "colab_type": "text"
      },
      "cell_type": "markdown",
      "source": [
        "Now we select just the informations about undergraduate students using the selecting_graduation_courses in each classes dataframe."
      ]
    },
    {
      "metadata": {
        "id": "UPfmkvPlJX9P",
        "colab_type": "code",
        "colab": {}
      },
      "cell_type": "code",
      "source": [
        "def selecting_graduation_courses(df) :\n",
        "  return df.loc[df['nivel_ensino'] == 'GRADUAÇÃO']"
      ],
      "execution_count": 0,
      "outputs": []
    },
    {
      "metadata": {
        "id": "pwkY8PpjbVGL",
        "colab_type": "code",
        "outputId": "d92e1f21-3377-4269-81a5-9bf1afa2c9a6",
        "colab": {
          "base_uri": "https://localhost:8080/",
          "height": 35
        }
      },
      "cell_type": "code",
      "source": [
        "classes20161 = selecting_graduation_courses(classes20161)\n",
        "classes20162 = selecting_graduation_courses(classes20162)\n",
        "classes20171 = selecting_graduation_courses(classes20171)\n",
        "classes20172 = selecting_graduation_courses(classes20172)\n",
        "\n",
        "allcourses = selecting_graduation_courses(allcourses)\n",
        "classes20161['nivel_ensino'].unique()"
      ],
      "execution_count": 0,
      "outputs": [
        {
          "output_type": "execute_result",
          "data": {
            "text/plain": [
              "array(['GRADUAÇÃO'], dtype=object)"
            ]
          },
          "metadata": {
            "tags": []
          },
          "execution_count": 87
        }
      ]
    },
    {
      "metadata": {
        "id": "szNwljSYUmn7",
        "colab_type": "text"
      },
      "cell_type": "markdown",
      "source": [
        "In the enrollments each students is shown three times because each row is about a unit of the discipline, but in our studies we just need the information about the final grade. So we drop all duplicates lines by class id and student."
      ]
    },
    {
      "metadata": {
        "id": "exhKcfkrtghz",
        "colab_type": "code",
        "colab": {}
      },
      "cell_type": "code",
      "source": [
        "#Each student is shown 3 times for each enrollment, but the final grade is the same for all the 3, so we are filtering that\n",
        "enrollments20161 = enrollments20161.drop_duplicates(subset = ['id_turma','discente'])\n",
        "enrollments20162 = enrollments20162.drop_duplicates(subset = ['id_turma','discente'])\n",
        "enrollments20171 = enrollments20171.drop_duplicates(subset = ['id_turma','discente'])\n",
        "enrollments20172 = enrollments20172.drop_duplicates(subset = ['id_turma','discente'])\n"
      ],
      "execution_count": 0,
      "outputs": []
    },
    {
      "metadata": {
        "id": "UmG0_8FTVznj",
        "colab_type": "text"
      },
      "cell_type": "markdown",
      "source": [
        "Now we drop all duplicates by class id to garantee that we have just one line with information about the class."
      ]
    },
    {
      "metadata": {
        "id": "cSz6iWoyFa5D",
        "colab_type": "code",
        "colab": {}
      },
      "cell_type": "code",
      "source": [
        "classes20161 = classes20161.drop_duplicates(subset = ['id_turma'])\n",
        "classes20162 = classes20162.drop_duplicates(subset = ['id_turma'])\n",
        "classes20171 = classes20171.drop_duplicates(subset = ['id_turma'])\n",
        "classes20172 = classes20172.drop_duplicates(subset = ['id_turma'])"
      ],
      "execution_count": 0,
      "outputs": []
    },
    {
      "metadata": {
        "id": "SfQu2lENV3RH",
        "colab_type": "text"
      },
      "cell_type": "markdown",
      "source": [
        "After clean the duplicate lines, we can merge the enrollments dataframes with the classes one."
      ]
    },
    {
      "metadata": {
        "id": "oHVxILoywAEN",
        "colab_type": "code",
        "colab": {}
      },
      "cell_type": "code",
      "source": [
        "#merging data\n",
        "data20161 = pd.merge(left = classes20161,right = enrollments20161,on=\"id_turma\",how= \"outer\")\n",
        "data20162 = pd.merge(left = classes20162,right = enrollments20162,on=\"id_turma\",how= \"outer\")\n",
        "data20171 = pd.merge(left = classes20171,right = enrollments20171,on=\"id_turma\",how= \"outer\")\n",
        "data20172 = pd.merge(left = classes20172,right = enrollments20172,on=\"id_turma\",how= \"outer\")"
      ],
      "execution_count": 0,
      "outputs": []
    },
    {
      "metadata": {
        "id": "eFvsNkhCW2Ke",
        "colab_type": "text"
      },
      "cell_type": "markdown",
      "source": [
        "And we merge the result found before with courses information because we can have informations about the courses of each discipline. This information is going to be useful in one of our studies."
      ]
    },
    {
      "metadata": {
        "id": "5OMnkixdmEZV",
        "colab_type": "code",
        "colab": {}
      },
      "cell_type": "code",
      "source": [
        "#selecting just the necessaries columns\n",
        "allcourses =  allcourses.drop( allcourses.columns[2:], axis=1)\n",
        "\n",
        "#merging data\n",
        "data20161 = pd.merge(right = allcourses, left = data20161, on=\"id_curso\",how=\"outer\")\n",
        "data20162 = pd.merge(right = allcourses,left = data20162,on=\"id_curso\",how= \"outer\")\n",
        "data20171 = pd.merge(right = allcourses,left = data20171,on=\"id_curso\", how=\"outer\")\n",
        "data20172 = pd.merge(right= allcourses, left = data20172, on=\"id_curso\", how=\"outer\")"
      ],
      "execution_count": 0,
      "outputs": []
    },
    {
      "metadata": {
        "id": "BTfWzTWFGw5q",
        "colab_type": "code",
        "outputId": "6df4be47-203c-46d7-a529-a6944fe08fc0",
        "colab": {
          "base_uri": "https://localhost:8080/",
          "height": 781
        }
      },
      "cell_type": "code",
      "source": [
        "data20161.info()"
      ],
      "execution_count": 0,
      "outputs": [
        {
          "output_type": "stream",
          "text": [
            "<class 'pandas.core.frame.DataFrame'>\n",
            "Int64Index: 210902 entries, 0 to 210901\n",
            "Data columns (total 37 columns):\n",
            "id_turma                    210900 non-null float64\n",
            "codigo_turma                170557 non-null object\n",
            "id_docente_interno          168990 non-null float64\n",
            "id_docente_externo          1567 non-null float64\n",
            "observacao                  98 non-null object\n",
            "id_componente_curricular    170557 non-null float64\n",
            "nivel_ensino                170557 non-null object\n",
            "campus_turma                160799 non-null object\n",
            "local                       170556 non-null object\n",
            "ano                         170557 non-null float64\n",
            "periodo                     170557 non-null float64\n",
            "data_inicio                 170557 non-null object\n",
            "data_fim                    170557 non-null object\n",
            "descricao_horario           160233 non-null object\n",
            "total_solicitacoes          168303 non-null float64\n",
            "capacidade_aluno            170557 non-null float64\n",
            "tipo                        170557 non-null object\n",
            "distancia                   170557 non-null object\n",
            "data_consolidacao           170054 non-null object\n",
            "agrupadora                  170557 non-null object\n",
            "id_turma_agrupadora         10508 non-null float64\n",
            "qtd_aulas_lancadas          170054 non-null float64\n",
            "situacao_turma              170557 non-null object\n",
            "convenio                    0 non-null float64\n",
            "modalidade_participantes    170557 non-null object\n",
            "Unnamed: 25                 0 non-null float64\n",
            "discente                    210582 non-null object\n",
            "id_curso                    208917 non-null float64\n",
            "unidade                     156529 non-null float64\n",
            "nota                        151621 non-null float64\n",
            "reposicao                   156529 non-null object\n",
            "faltas_unidade              156529 non-null float64\n",
            "media_final                 170198 non-null float64\n",
            "numero_total_faltas         175944 non-null float64\n",
            "descricao                   210582 non-null object\n",
            "Unnamed: 10                 0 non-null float64\n",
            "nome                        169165 non-null object\n",
            "dtypes: float64(19), object(18)\n",
            "memory usage: 61.1+ MB\n"
          ],
          "name": "stdout"
        }
      ]
    },
    {
      "metadata": {
        "id": "jUzQz5g11JWS",
        "colab_type": "text"
      },
      "cell_type": "markdown",
      "source": [
        "Now we have many columns (how we can see above) that we do not need, so we define a function to drop all collumns that are not used in our studies."
      ]
    },
    {
      "metadata": {
        "id": "rMjTnH7Rdi2C",
        "colab_type": "code",
        "colab": {}
      },
      "cell_type": "code",
      "source": [
        "#removing columns that will not be used\n",
        "def drop_columns(df):\n",
        "    df.drop(\"unidade\",inplace=True, axis=1)\n",
        "    df.drop(\"nota\",inplace=True, axis=1)\n",
        "    df.drop(\"reposicao\",inplace=True, axis=1)\n",
        "    df.drop(\"faltas_unidade\",inplace=True, axis=1)\n",
        "    df.drop(\"observacao\",inplace=True, axis=1)\n",
        "    df.drop(\"campus_turma\",inplace=True, axis=1)\n",
        "    df.drop(\"local\",inplace=True, axis=1)\n",
        "    df.drop(\"ano\",inplace=True, axis=1)\n",
        "    df.drop(\"periodo\",inplace=True, axis=1)\n",
        "    df.drop(\"data_inicio\",inplace=True, axis=1)\n",
        "    df.drop(\"data_fim\",inplace=True, axis=1)\n",
        "    df.drop(\"distancia\",inplace=True, axis=1)\n",
        "    df.drop(\"data_consolidacao\",inplace=True, axis=1)\n",
        "    df.drop(\"total_solicitacoes\",inplace=True, axis=1)\n",
        "    df.drop(\"capacidade_aluno\",inplace=True, axis=1)\n",
        "    df.drop(\"qtd_aulas_lancadas\",inplace=True, axis=1)\n",
        "    df.drop(\"tipo\",inplace=True, axis=1)\n",
        "    df.drop(\"situacao_turma\",inplace=True, axis=1)\n",
        "    df.drop(\"convenio\",inplace=True, axis=1)\n",
        "    df.drop(\"modalidade_participantes\",inplace=True, axis=1)\n",
        "    df.drop(\"id_docente_interno\",inplace = True ,axis=1)\n",
        "    df.drop(\"id_docente_externo\",inplace = True ,axis=1)\n",
        "    df.drop(\"codigo_turma\",inplace = True ,axis=1)\n",
        "    df.drop(\"nivel_ensino\",inplace = True ,axis=1)\n",
        "    df.drop(\"agrupadora\",inplace = True ,axis=1)\n",
        "    df.drop(\"id_turma_agrupadora\",inplace = True ,axis=1)\n",
        "    df.drop(\"Unnamed: 25\",inplace = True ,axis=1)\n",
        "    df.drop(\"id_componente_curricular\",inplace = True ,axis=1)\n",
        "    df.rename(index=str, columns={'nome':'curso'},inplace=True)\n",
        "\n",
        "drop_columns(data20161)\n",
        "drop_columns(data20162)\n",
        "drop_columns(data20171)\n",
        "drop_columns(data20172)"
      ],
      "execution_count": 0,
      "outputs": []
    },
    {
      "metadata": {
        "id": "qm1sHDSC6bxb",
        "colab_type": "code",
        "outputId": "ed265778-efdb-45ce-ad5c-64f04dff96fb",
        "colab": {
          "base_uri": "https://localhost:8080/",
          "height": 1254
        }
      },
      "cell_type": "code",
      "source": [
        "print(\"2016.1 Info DataFrame\")\n",
        "print(data20161.info())\n",
        "print(\"\\n\")\n",
        "print(\"2016.2 Info DataFrame\")\n",
        "print(data20162.info())\n",
        "print(\"\\n\")\n",
        "print(\"2017.1 Info DataFrame\")\n",
        "print(data20171.info())\n",
        "print(\"\\n\")\n",
        "print(\"2017.2 Info DataFrame\")\n",
        "print(data20172.info())"
      ],
      "execution_count": 0,
      "outputs": [
        {
          "output_type": "stream",
          "text": [
            "2016.1 Info DataFrame\n",
            "<class 'pandas.core.frame.DataFrame'>\n",
            "Index: 210902 entries, 0 to 210901\n",
            "Data columns (total 9 columns):\n",
            "id_turma               210900 non-null float64\n",
            "descricao_horario      160233 non-null object\n",
            "discente               210582 non-null object\n",
            "id_curso               208917 non-null float64\n",
            "media_final            170198 non-null float64\n",
            "numero_total_faltas    175944 non-null float64\n",
            "descricao              210582 non-null object\n",
            "Unnamed: 10            0 non-null float64\n",
            "curso                  169165 non-null object\n",
            "dtypes: float64(5), object(4)\n",
            "memory usage: 16.1+ MB\n",
            "None\n",
            "\n",
            "\n",
            "2016.2 Info DataFrame\n",
            "<class 'pandas.core.frame.DataFrame'>\n",
            "Index: 186154 entries, 0 to 186153\n",
            "Data columns (total 9 columns):\n",
            "id_turma               186154 non-null int64\n",
            "descricao_horario      150152 non-null object\n",
            "discente               185785 non-null object\n",
            "id_curso               184116 non-null float64\n",
            "media_final            153101 non-null float64\n",
            "numero_total_faltas    158679 non-null float64\n",
            "descricao              185785 non-null object\n",
            "Unnamed: 10            0 non-null float64\n",
            "curso                  154998 non-null object\n",
            "dtypes: float64(4), int64(1), object(4)\n",
            "memory usage: 14.2+ MB\n",
            "None\n",
            "\n",
            "\n",
            "2017.1 Info DataFrame\n",
            "<class 'pandas.core.frame.DataFrame'>\n",
            "Index: 196511 entries, 0 to 196510\n",
            "Data columns (total 8 columns):\n",
            "id_turma               196510 non-null float64\n",
            "descricao_horario      161411 non-null object\n",
            "discente               196234 non-null object\n",
            "id_curso               194861 non-null float64\n",
            "media_final            155526 non-null float64\n",
            "numero_total_faltas    161469 non-null float64\n",
            "descricao              196234 non-null object\n",
            "curso                  164892 non-null object\n",
            "dtypes: float64(4), object(4)\n",
            "memory usage: 13.5+ MB\n",
            "None\n",
            "\n",
            "\n",
            "2017.2 Info DataFrame\n",
            "<class 'pandas.core.frame.DataFrame'>\n",
            "Index: 191749 entries, 0 to 191748\n",
            "Data columns (total 8 columns):\n",
            "id_turma               191748 non-null float64\n",
            "descricao_horario      148517 non-null object\n",
            "discente               191457 non-null object\n",
            "id_curso               190184 non-null float64\n",
            "media_final            152339 non-null float64\n",
            "numero_total_faltas    158903 non-null float64\n",
            "descricao              191457 non-null object\n",
            "curso                  158889 non-null object\n",
            "dtypes: float64(4), object(4)\n",
            "memory usage: 13.2+ MB\n",
            "None\n"
          ],
          "name": "stdout"
        }
      ]
    },
    {
      "metadata": {
        "id": "SXOCvOfA3G-o",
        "colab_type": "text"
      },
      "cell_type": "markdown",
      "source": [
        "In 'data20161' and 'data20162' exist a column named \"Unnamed 10\" with all values null , so we drop this columns becaus it's unnecessary."
      ]
    },
    {
      "metadata": {
        "id": "whkJ2pb86Zsf",
        "colab_type": "code",
        "colab": {}
      },
      "cell_type": "code",
      "source": [
        "def drop_specific_column(df):\n",
        "    df.drop(\"Unnamed: 10\",inplace=True,axis=1)\n",
        "drop_specific_column(data20161)\n",
        "drop_specific_column(data20162)"
      ],
      "execution_count": 0,
      "outputs": []
    },
    {
      "metadata": {
        "id": "BO9Hibz0RdkA",
        "colab_type": "code",
        "outputId": "b66ba8b1-f0e1-41d6-8ee1-c87d94caf1ea",
        "colab": {
          "base_uri": "https://localhost:8080/",
          "height": 254
        }
      },
      "cell_type": "code",
      "source": [
        "data20162.info()"
      ],
      "execution_count": 0,
      "outputs": [
        {
          "output_type": "stream",
          "text": [
            "<class 'pandas.core.frame.DataFrame'>\n",
            "Index: 186154 entries, 0 to 186153\n",
            "Data columns (total 8 columns):\n",
            "id_turma               186154 non-null int64\n",
            "descricao_horario      150152 non-null object\n",
            "discente               185785 non-null object\n",
            "id_curso               184116 non-null float64\n",
            "media_final            153101 non-null float64\n",
            "numero_total_faltas    158679 non-null float64\n",
            "descricao              185785 non-null object\n",
            "curso                  154998 non-null object\n",
            "dtypes: float64(3), int64(1), object(4)\n",
            "memory usage: 12.8+ MB\n"
          ],
          "name": "stdout"
        }
      ]
    },
    {
      "metadata": {
        "id": "wK7ce50OK31f",
        "colab_type": "text"
      },
      "cell_type": "markdown",
      "source": [
        "After clean the columns we have to clean the null values in *discente*, *descricao* and *curso* columns."
      ]
    },
    {
      "metadata": {
        "id": "7wHkas4Kq-x-",
        "colab_type": "code",
        "colab": {}
      },
      "cell_type": "code",
      "source": [
        "#removing data null\n",
        "def remove_null(df):\n",
        "    df.drop(df[df.discente.isnull()].index,inplace = True)\n",
        "    df.drop(df[df.descricao.isnull()].index,inplace = True)\n",
        "    df.drop(df[df.curso.isnull()].index,inplace = True)\n",
        "\n",
        "remove_null(data20161)\n",
        "remove_null(data20162)\n",
        "remove_null(data20171)\n",
        "remove_null(data20172)"
      ],
      "execution_count": 0,
      "outputs": []
    },
    {
      "metadata": {
        "id": "n2Ab1U483x6p",
        "colab_type": "text"
      },
      "cell_type": "markdown",
      "source": [
        "We define a function to discard all enrollments that the description does not refers to a situation where the student effectively attended the discipline, like canceled, deleted, waived and pending deferment."
      ]
    },
    {
      "metadata": {
        "id": "j1VuhWMp3xIj",
        "colab_type": "code",
        "colab": {}
      },
      "cell_type": "code",
      "source": [
        "def drop_unnecessary_enrollment_description(df):\n",
        "  df.drop(df[df.descricao == 'CANCELADO'].index, inplace=True)\n",
        "  df.drop(df[df.descricao == 'EXCLUIDA'].index, inplace=True)\n",
        "  df.drop(df[df.descricao == 'INDEFERIDO'].index, inplace=True)\n",
        "  df.drop(df[df.descricao == 'AGUARDANDO DEFERIMENTO'].index, inplace=True)"
      ],
      "execution_count": 0,
      "outputs": []
    },
    {
      "metadata": {
        "id": "oA7_03db37UV",
        "colab_type": "code",
        "colab": {}
      },
      "cell_type": "code",
      "source": [
        "drop_unnecessary_enrollment_description(data20161)\n",
        "drop_unnecessary_enrollment_description(data20162)\n",
        "drop_unnecessary_enrollment_description(data20171)\n",
        "drop_unnecessary_enrollment_description(data20172)"
      ],
      "execution_count": 0,
      "outputs": []
    },
    {
      "metadata": {
        "id": "2WzhWLwBLMBW",
        "colab_type": "text"
      },
      "cell_type": "markdown",
      "source": [
        "An important information to our studies is the number of enrollments of each students have. We want to know how many disciplines they are registred. So we define a function to calculate this number here."
      ]
    },
    {
      "metadata": {
        "id": "1JunsfJD0h27",
        "colab_type": "code",
        "colab": {}
      },
      "cell_type": "code",
      "source": [
        "def num_enrollments(df):\n",
        "    a = df.discente.value_counts()\n",
        "    def funcenrollments(row):\n",
        "        return a[row.discente]\n",
        "    df['num_matriculas'] =df.apply(funcenrollments, axis=1)\n",
        "\n",
        "num_enrollments(data20161)\n",
        "num_enrollments(data20162)\n",
        "num_enrollments(data20171)\n",
        "num_enrollments(data20172)\n"
      ],
      "execution_count": 0,
      "outputs": []
    },
    {
      "metadata": {
        "id": "ZR2oU_8C7RcX",
        "colab_type": "text"
      },
      "cell_type": "markdown",
      "source": [
        "Now we can see all data almost ready to use in our studies."
      ]
    },
    {
      "metadata": {
        "id": "uiY9EG2AlbFQ",
        "colab_type": "code",
        "outputId": "04c60e20-3f85-4f72-bb2f-44306f7c9055",
        "colab": {
          "base_uri": "https://localhost:8080/",
          "height": 198
        }
      },
      "cell_type": "code",
      "source": [
        "data20171.head()"
      ],
      "execution_count": 0,
      "outputs": [
        {
          "output_type": "execute_result",
          "data": {
            "text/html": [
              "<div>\n",
              "<style scoped>\n",
              "    .dataframe tbody tr th:only-of-type {\n",
              "        vertical-align: middle;\n",
              "    }\n",
              "\n",
              "    .dataframe tbody tr th {\n",
              "        vertical-align: top;\n",
              "    }\n",
              "\n",
              "    .dataframe thead th {\n",
              "        text-align: right;\n",
              "    }\n",
              "</style>\n",
              "<table border=\"1\" class=\"dataframe\">\n",
              "  <thead>\n",
              "    <tr style=\"text-align: right;\">\n",
              "      <th></th>\n",
              "      <th>id_turma</th>\n",
              "      <th>descricao_horario</th>\n",
              "      <th>discente</th>\n",
              "      <th>id_curso</th>\n",
              "      <th>media_final</th>\n",
              "      <th>numero_total_faltas</th>\n",
              "      <th>descricao</th>\n",
              "      <th>curso</th>\n",
              "      <th>num_matriculas</th>\n",
              "    </tr>\n",
              "  </thead>\n",
              "  <tbody>\n",
              "    <tr>\n",
              "      <th>0</th>\n",
              "      <td>57593679.0</td>\n",
              "      <td>3T234 4T34</td>\n",
              "      <td>e03b495e653c10440f422bb036a5c0f3</td>\n",
              "      <td>2000059.0</td>\n",
              "      <td>7.8</td>\n",
              "      <td>13.0</td>\n",
              "      <td>APROVADO</td>\n",
              "      <td>ODONTOLOGIA</td>\n",
              "      <td>5</td>\n",
              "    </tr>\n",
              "    <tr>\n",
              "      <th>2</th>\n",
              "      <td>57593679.0</td>\n",
              "      <td>3T234 4T34</td>\n",
              "      <td>d5c4d1c815ebc2673ba07f6738aa04ef</td>\n",
              "      <td>2000059.0</td>\n",
              "      <td>8.6</td>\n",
              "      <td>6.0</td>\n",
              "      <td>APROVADO</td>\n",
              "      <td>ODONTOLOGIA</td>\n",
              "      <td>5</td>\n",
              "    </tr>\n",
              "    <tr>\n",
              "      <th>3</th>\n",
              "      <td>57593679.0</td>\n",
              "      <td>3T234 4T34</td>\n",
              "      <td>3d296ca779d5bb81ee53fcc1f42c0e94</td>\n",
              "      <td>2000059.0</td>\n",
              "      <td>8.0</td>\n",
              "      <td>2.0</td>\n",
              "      <td>APROVADO</td>\n",
              "      <td>ODONTOLOGIA</td>\n",
              "      <td>5</td>\n",
              "    </tr>\n",
              "    <tr>\n",
              "      <th>4</th>\n",
              "      <td>57593679.0</td>\n",
              "      <td>3T234 4T34</td>\n",
              "      <td>aeb4814f025ab772ae46574ef48d82a4</td>\n",
              "      <td>2000059.0</td>\n",
              "      <td>8.3</td>\n",
              "      <td>9.0</td>\n",
              "      <td>APROVADO</td>\n",
              "      <td>ODONTOLOGIA</td>\n",
              "      <td>5</td>\n",
              "    </tr>\n",
              "    <tr>\n",
              "      <th>5</th>\n",
              "      <td>57593679.0</td>\n",
              "      <td>3T234 4T34</td>\n",
              "      <td>da8f0a203f74f319d9f5112d3a9fbaec</td>\n",
              "      <td>2000059.0</td>\n",
              "      <td>8.1</td>\n",
              "      <td>10.0</td>\n",
              "      <td>APROVADO</td>\n",
              "      <td>ODONTOLOGIA</td>\n",
              "      <td>5</td>\n",
              "    </tr>\n",
              "  </tbody>\n",
              "</table>\n",
              "</div>"
            ],
            "text/plain": [
              "     id_turma descricao_horario                          discente   id_curso  \\\n",
              "0  57593679.0        3T234 4T34  e03b495e653c10440f422bb036a5c0f3  2000059.0   \n",
              "2  57593679.0        3T234 4T34  d5c4d1c815ebc2673ba07f6738aa04ef  2000059.0   \n",
              "3  57593679.0        3T234 4T34  3d296ca779d5bb81ee53fcc1f42c0e94  2000059.0   \n",
              "4  57593679.0        3T234 4T34  aeb4814f025ab772ae46574ef48d82a4  2000059.0   \n",
              "5  57593679.0        3T234 4T34  da8f0a203f74f319d9f5112d3a9fbaec  2000059.0   \n",
              "\n",
              "   media_final  numero_total_faltas descricao        curso  num_matriculas  \n",
              "0          7.8                 13.0  APROVADO  ODONTOLOGIA               5  \n",
              "2          8.6                  6.0  APROVADO  ODONTOLOGIA               5  \n",
              "3          8.0                  2.0  APROVADO  ODONTOLOGIA               5  \n",
              "4          8.3                  9.0  APROVADO  ODONTOLOGIA               5  \n",
              "5          8.1                 10.0  APROVADO  ODONTOLOGIA               5  "
            ]
          },
          "metadata": {
            "tags": []
          },
          "execution_count": 101
        }
      ]
    },
    {
      "metadata": {
        "id": "pp3XIdmR1v40",
        "colab_type": "code",
        "outputId": "a2a3bf03-fc76-412a-a40a-7ccf7b69fb71",
        "colab": {
          "base_uri": "https://localhost:8080/",
          "height": 198
        }
      },
      "cell_type": "code",
      "source": [
        "\n",
        "data20171.loc[data20171[\"discente\"]==\"da8f0a203f74f319d9f5112d3a9fbaec\"]"
      ],
      "execution_count": 0,
      "outputs": [
        {
          "output_type": "execute_result",
          "data": {
            "text/html": [
              "<div>\n",
              "<style scoped>\n",
              "    .dataframe tbody tr th:only-of-type {\n",
              "        vertical-align: middle;\n",
              "    }\n",
              "\n",
              "    .dataframe tbody tr th {\n",
              "        vertical-align: top;\n",
              "    }\n",
              "\n",
              "    .dataframe thead th {\n",
              "        text-align: right;\n",
              "    }\n",
              "</style>\n",
              "<table border=\"1\" class=\"dataframe\">\n",
              "  <thead>\n",
              "    <tr style=\"text-align: right;\">\n",
              "      <th></th>\n",
              "      <th>id_turma</th>\n",
              "      <th>descricao_horario</th>\n",
              "      <th>discente</th>\n",
              "      <th>id_curso</th>\n",
              "      <th>media_final</th>\n",
              "      <th>numero_total_faltas</th>\n",
              "      <th>descricao</th>\n",
              "      <th>curso</th>\n",
              "      <th>num_matriculas</th>\n",
              "    </tr>\n",
              "  </thead>\n",
              "  <tbody>\n",
              "    <tr>\n",
              "      <th>5</th>\n",
              "      <td>57593679.0</td>\n",
              "      <td>3T234 4T34</td>\n",
              "      <td>da8f0a203f74f319d9f5112d3a9fbaec</td>\n",
              "      <td>2000059.0</td>\n",
              "      <td>8.1</td>\n",
              "      <td>10.0</td>\n",
              "      <td>APROVADO</td>\n",
              "      <td>ODONTOLOGIA</td>\n",
              "      <td>5</td>\n",
              "    </tr>\n",
              "    <tr>\n",
              "      <th>63</th>\n",
              "      <td>57593790.0</td>\n",
              "      <td>234M1234 6M12</td>\n",
              "      <td>da8f0a203f74f319d9f5112d3a9fbaec</td>\n",
              "      <td>2000059.0</td>\n",
              "      <td>7.3</td>\n",
              "      <td>0.0</td>\n",
              "      <td>APROVADO</td>\n",
              "      <td>ODONTOLOGIA</td>\n",
              "      <td>5</td>\n",
              "    </tr>\n",
              "    <tr>\n",
              "      <th>161</th>\n",
              "      <td>57594924.0</td>\n",
              "      <td>246T12</td>\n",
              "      <td>da8f0a203f74f319d9f5112d3a9fbaec</td>\n",
              "      <td>2000059.0</td>\n",
              "      <td>7.8</td>\n",
              "      <td>2.0</td>\n",
              "      <td>APROVADO</td>\n",
              "      <td>ODONTOLOGIA</td>\n",
              "      <td>5</td>\n",
              "    </tr>\n",
              "    <tr>\n",
              "      <th>1264</th>\n",
              "      <td>57596541.0</td>\n",
              "      <td>5T2345 (16/03/2017 - 18/05/2017)</td>\n",
              "      <td>da8f0a203f74f319d9f5112d3a9fbaec</td>\n",
              "      <td>2000059.0</td>\n",
              "      <td>9.0</td>\n",
              "      <td>0.0</td>\n",
              "      <td>APROVADO</td>\n",
              "      <td>ODONTOLOGIA</td>\n",
              "      <td>5</td>\n",
              "    </tr>\n",
              "    <tr>\n",
              "      <th>1738</th>\n",
              "      <td>57598990.0</td>\n",
              "      <td>5M2345 (13/02/2017 - 01/07/2017)</td>\n",
              "      <td>da8f0a203f74f319d9f5112d3a9fbaec</td>\n",
              "      <td>2000059.0</td>\n",
              "      <td>9.3</td>\n",
              "      <td>0.0</td>\n",
              "      <td>APROVADO</td>\n",
              "      <td>ODONTOLOGIA</td>\n",
              "      <td>5</td>\n",
              "    </tr>\n",
              "  </tbody>\n",
              "</table>\n",
              "</div>"
            ],
            "text/plain": [
              "        id_turma                 descricao_horario  \\\n",
              "5     57593679.0                        3T234 4T34   \n",
              "63    57593790.0                     234M1234 6M12   \n",
              "161   57594924.0                            246T12   \n",
              "1264  57596541.0  5T2345 (16/03/2017 - 18/05/2017)   \n",
              "1738  57598990.0  5M2345 (13/02/2017 - 01/07/2017)   \n",
              "\n",
              "                              discente   id_curso  media_final  \\\n",
              "5     da8f0a203f74f319d9f5112d3a9fbaec  2000059.0          8.1   \n",
              "63    da8f0a203f74f319d9f5112d3a9fbaec  2000059.0          7.3   \n",
              "161   da8f0a203f74f319d9f5112d3a9fbaec  2000059.0          7.8   \n",
              "1264  da8f0a203f74f319d9f5112d3a9fbaec  2000059.0          9.0   \n",
              "1738  da8f0a203f74f319d9f5112d3a9fbaec  2000059.0          9.3   \n",
              "\n",
              "      numero_total_faltas descricao        curso  num_matriculas  \n",
              "5                    10.0  APROVADO  ODONTOLOGIA               5  \n",
              "63                    0.0  APROVADO  ODONTOLOGIA               5  \n",
              "161                   2.0  APROVADO  ODONTOLOGIA               5  \n",
              "1264                  0.0  APROVADO  ODONTOLOGIA               5  \n",
              "1738                  0.0  APROVADO  ODONTOLOGIA               5  "
            ]
          },
          "metadata": {
            "tags": []
          },
          "execution_count": 102
        }
      ]
    },
    {
      "metadata": {
        "id": "W3ZTnlGQbHh9",
        "colab_type": "text"
      },
      "cell_type": "markdown",
      "source": [
        "We decide to check the outliers to discar them of the data bases."
      ]
    },
    {
      "metadata": {
        "id": "77J4Z0U35E8f",
        "colab_type": "code",
        "outputId": "8302fa3a-7216-4b0b-f7e3-2a663a6fbbf5",
        "colab": {
          "base_uri": "https://localhost:8080/",
          "height": 181
        }
      },
      "cell_type": "code",
      "source": [
        "data20171.num_matriculas.describe()"
      ],
      "execution_count": 0,
      "outputs": [
        {
          "output_type": "execute_result",
          "data": {
            "text/plain": [
              "count    137383.000000\n",
              "mean          6.525240\n",
              "std           2.878039\n",
              "min           1.000000\n",
              "25%           5.000000\n",
              "50%           6.000000\n",
              "75%           7.000000\n",
              "max          24.000000\n",
              "Name: num_matriculas, dtype: float64"
            ]
          },
          "metadata": {
            "tags": []
          },
          "execution_count": 103
        }
      ]
    },
    {
      "metadata": {
        "id": "BeLGd7UwT8nF",
        "colab_type": "code",
        "colab": {}
      },
      "cell_type": "code",
      "source": [
        "#TODO: usar formula generica que esta no estudo 2\n",
        "def remove_outliers(df):\n",
        "    lsup = 7.132767+1.5*4\n",
        "    lsup\n",
        "    df.drop(df[df.num_matriculas > lsup].index,inplace = True)\n",
        "\n",
        "remove_outliers(data20161)\n",
        "remove_outliers(data20162)\n",
        "remove_outliers(data20171)\n",
        "remove_outliers(data20172)\n"
      ],
      "execution_count": 0,
      "outputs": []
    },
    {
      "metadata": {
        "id": "t7tQ_PvK7vUY",
        "colab_type": "text"
      },
      "cell_type": "markdown",
      "source": [
        "Now all the dataframes are ready to use in our studies"
      ]
    },
    {
      "metadata": {
        "id": "u4Yogp-pKK31",
        "colab_type": "text"
      },
      "cell_type": "markdown",
      "source": [
        "# 2. The Relation between the Number of Enrollments of a Student and the Approvals\n",
        "\n"
      ]
    },
    {
      "metadata": {
        "id": "vJ-dvem88dzy",
        "colab_type": "text"
      },
      "cell_type": "markdown",
      "source": [
        "The first study is about the relation between the amount of enrollments and the success of the student being approved. So we start to copy the dataframes, because if we need to change it to produce some result in this study, we do not interfere in the others studies."
      ]
    },
    {
      "metadata": {
        "id": "X2U65klIPq2p",
        "colab_type": "code",
        "colab": {}
      },
      "cell_type": "code",
      "source": [
        "#Copying the data to do local changes\n",
        "study1_20161=data20161\n",
        "study1_20162=data20162\n",
        "study1_20171=data20171\n",
        "study1_20172=data20172"
      ],
      "execution_count": 0,
      "outputs": []
    },
    {
      "metadata": {
        "id": "AB5x2Fkv-yPY",
        "colab_type": "text"
      },
      "cell_type": "markdown",
      "source": [
        "This function is used to filter the pivot table values to avoid that the same student is count more than once.\n",
        "\n"
      ]
    },
    {
      "metadata": {
        "id": "0kTW7xhOKMjm",
        "colab_type": "code",
        "colab": {}
      },
      "cell_type": "code",
      "source": [
        "def count_unique_discente(x):\n",
        "    return len(x.unique().tolist())"
      ],
      "execution_count": 0,
      "outputs": []
    },
    {
      "metadata": {
        "id": "e71CDNdDfW8-",
        "colab_type": "text"
      },
      "cell_type": "markdown",
      "source": [
        "Working with such a large data frame can be confusing, so let's group the information we want for this study, already making the clustering calculations necessary for visualization.\n"
      ]
    },
    {
      "metadata": {
        "id": "7_zadLIRnHay",
        "colab_type": "code",
        "colab": {}
      },
      "cell_type": "code",
      "source": [
        "#amount of results according to the number of enrollments 2016.1-2018.2\n",
        "study20161 = study1_20161.pivot_table(index=\"descricao\",columns='num_matriculas',values='discente',aggfunc=count_unique_discente)\n",
        "study20162 = study1_20162.pivot_table(index=\"descricao\",columns='num_matriculas',values='discente',aggfunc=count_unique_discente)\n",
        "study20171 = study1_20171.pivot_table(index=\"descricao\",columns='num_matriculas',values='discente',aggfunc=count_unique_discente)\n",
        "study20172 = study1_20172.pivot_table(index=\"descricao\",columns='num_matriculas',values='discente',aggfunc=count_unique_discente)\n"
      ],
      "execution_count": 0,
      "outputs": []
    },
    {
      "metadata": {
        "id": "zyyTHZiAgRoG",
        "colab_type": "text"
      },
      "cell_type": "markdown",
      "source": [
        "With the data grouped, we can then plot a heatmap chart to visualize the data clearly.\n"
      ]
    },
    {
      "metadata": {
        "id": "l2_XKVVl8d3v",
        "colab_type": "code",
        "outputId": "b0fe3769-477a-40fd-d53d-329961eaa95f",
        "colab": {
          "base_uri": "https://localhost:8080/",
          "height": 1134
        }
      },
      "cell_type": "code",
      "source": [
        "sns.heatmap(study20161, linewidth=0.5,cmap=\"Blues\")\n",
        "plt.title(\"20161\")\n",
        "plt.show()\n",
        "\n",
        "sns.heatmap(study20162, linewidth=0.5,cmap=\"Blues\")\n",
        "plt.title(\"20162\")\n",
        "plt.show()\n",
        "\n",
        "sns.heatmap(study20171, linewidth=0.5,cmap=\"Blues\")\n",
        "plt.title(\"20171\")\n",
        "plt.show()\n",
        "\n",
        "sns.heatmap(study20172, linewidth=0.5,cmap=\"Blues\")\n",
        "plt.title(\"20172\")\n",
        "plt.show()\n"
      ],
      "execution_count": 0,
      "outputs": [
        {
          "output_type": "display_data",
          "data": {
            "image/png": "[encoded data removed]",
            "text/plain": [
              "<Figure size 432x288 with 2 Axes>"
            ]
          },
          "metadata": {
            "tags": []
          }
        },
        {
          "output_type": "display_data",
          "data": {
            "image/png": "[encoded data removed]",
            "text/plain": [
              "<Figure size 432x288 with 2 Axes>"
            ]
          },
          "metadata": {
            "tags": []
          }
        },
        {
          "output_type": "display_data",
          "data": {
            "image/png": "[encoded data removed]",
            "text/plain": [
              "<Figure size 432x288 with 2 Axes>"
            ]
          },
          "metadata": {
            "tags": []
          }
        },
        {
          "output_type": "display_data",
          "data": {
            "image/png": "[encoded data removed]",
            "text/plain": [
              "<Figure size 432x288 with 2 Axes>"
            ]
          },
          "metadata": {
            "tags": []
          }
        }
      ]
    },
    {
      "metadata": {
        "colab_type": "text",
        "id": "Z3JOmqvWte57"
      },
      "cell_type": "markdown",
      "source": [
        "Based on the above graphs we can conclude:\n",
        "*   Most students are APPROVED (average over 7)\n",
        "\n",
        "*   Students enrolled in 6 subjects are the ones who achieve the highest approval, it is also noticeable that the number 6 of enrollments is where the largest number of students\n",
        "\n",
        "*   The behavior is very close in all four analyzed semesters."
      ]
    },
    {
      "metadata": {
        "id": "jVjqP55FeYFm",
        "colab_type": "text"
      },
      "cell_type": "markdown",
      "source": [
        "From the chart above we can draw a lot of information, but it is still superficial. We can explore more data, filtering the students approved and approved by note counting the total approval of a student in a new column.\n"
      ]
    },
    {
      "metadata": {
        "id": "kMoM_H2mfz42",
        "colab_type": "text"
      },
      "cell_type": "markdown",
      "source": [
        "# 3. rate of approval by number of enrollments\n",
        "\n",
        "\n"
      ]
    },
    {
      "metadata": {
        "id": "v4xjlCMPMClX",
        "colab_type": "code",
        "colab": {}
      },
      "cell_type": "code",
      "source": [
        "#calculando quantidade de aprovacoes\n",
        "def aprovacao(df):\n",
        "    def aprovado(row):\n",
        "        return row.descricao == 'APROVADO' or row.descricao == 'APROVADO POR NOTA'\n",
        "    df['aprovado'] = df.apply(aprovado, axis=1)"
      ],
      "execution_count": 0,
      "outputs": []
    },
    {
      "metadata": {
        "id": "-o7CSDMUMEwQ",
        "colab_type": "code",
        "colab": {}
      },
      "cell_type": "code",
      "source": [
        "#calculando quantidade de aprovacoes e fazendo um merge com o dataframe do estudo\n",
        "\n",
        "aprovacao(study1_20162)\n",
        "table = study1_20162.pivot_table(index=\"discente\",values='aprovado',aggfunc=sum)\n",
        "table.reset_index(level=0, inplace=True)\n",
        "table.columns = ['discente','num_aprovacoes']\n",
        "study1_20162 = pd.merge(right = study1_20162,left = table,on=\"discente\",how= \"outer\")\n",
        "\n",
        "aprovacao(study1_20171)\n",
        "table = study1_20171.pivot_table(index=\"discente\",values='aprovado',aggfunc=sum)\n",
        "table.reset_index(level=0, inplace=True)\n",
        "table.columns = ['discente','num_aprovacoes']\n",
        "study1_20171 = pd.merge(right = study1_20171,left = table,on=\"discente\",how= \"outer\")\n",
        "\n",
        "aprovacao(study1_20172)\n",
        "table = study1_20172.pivot_table(index=\"discente\",values='aprovado',aggfunc=sum)\n",
        "table.reset_index(level=0, inplace=True)\n",
        "table.columns = ['discente','num_aprovacoes']\n",
        "study1_20172 = pd.merge(right = study1_20172,left = table,on=\"discente\",how= \"outer\")\n",
        "\n",
        "aprovacao(study1_20161)\n",
        "table = study1_20161.pivot_table(index=\"discente\",values='aprovado',aggfunc=sum)\n",
        "table.reset_index(level=0, inplace=True)\n",
        "table.columns = ['discente','num_aprovacoes']\n",
        "study1_20161 = pd.merge(right = study1_20161,left = table,on=\"discente\",how= \"outer\")\n"
      ],
      "execution_count": 0,
      "outputs": []
    },
    {
      "metadata": {
        "id": "nryvFETuMGj2",
        "colab_type": "code",
        "outputId": "9aa4bb79-5410-4d03-d17d-210d778ccc81",
        "colab": {
          "base_uri": "https://localhost:8080/",
          "height": 1130
        }
      },
      "cell_type": "code",
      "source": [
        "#vizualizando dados por grafico de disperção, porem nao da para vizualizar muito bem\n",
        "df = study1_20162.drop_duplicates(subset=\"discente\")\n",
        "plt.scatter(df[\"num_matriculas\"],df[\"num_aprovacoes\"])\n",
        "plt.title(\"DISPERÇAO\")\n",
        "plt.grid(True)\n",
        "plt.xlabel(\"NUMERO DE MATRICULAS\")\n",
        "plt.ylabel(\"NUMERO DE APROVACOES\")\n",
        "plt.show()\n",
        "df = study1_20171.drop_duplicates(subset=\"discente\")\n",
        "plt.scatter(df[\"num_matriculas\"],df[\"num_aprovacoes\"])\n",
        "plt.title(\"DISPERÇAO\")\n",
        "plt.grid(True)\n",
        "plt.xlabel(\"NUMERO DE MATRICULAS\")\n",
        "plt.ylabel(\"NUMERO DE APROVACOES\")\n",
        "plt.show()\n",
        "df = study1_20172.drop_duplicates(subset=\"discente\")\n",
        "plt.scatter(df[\"num_matriculas\"],df[\"num_aprovacoes\"])\n",
        "plt.title(\"DISPERÇAO\")\n",
        "plt.grid(True)\n",
        "plt.xlabel(\"NUMERO DE MATRICULAS\")\n",
        "plt.ylabel(\"NUMERO DE APROVACOES\")\n",
        "plt.show()\n",
        "df = study1_20161.drop_duplicates(subset=\"discente\")\n",
        "plt.scatter(df[\"num_matriculas\"],df[\"num_aprovacoes\"])\n",
        "plt.title(\"DISPERÇAO\")\n",
        "plt.grid(True)\n",
        "plt.xlabel(\"NUMERO DE MATRICULAS\")\n",
        "plt.ylabel(\"NUMERO DE APROVACOES\")\n",
        "plt.show()"
      ],
      "execution_count": 0,
      "outputs": [
        {
          "output_type": "display_data",
          "data": {
            "image/png": "[encoded data removed]",
            "text/plain": [
              "<Figure size 432x288 with 1 Axes>"
            ]
          },
          "metadata": {
            "tags": []
          }
        },
        {
          "output_type": "display_data",
          "data": {
            "image/png": "[encoded data removed]",
            "text/plain": [
              "<Figure size 432x288 with 1 Axes>"
            ]
          },
          "metadata": {
            "tags": []
          }
        },
        {
          "output_type": "display_data",
          "data": {
            "image/png": "[encoded data removed]",
            "text/plain": [
              "<Figure size 432x288 with 1 Axes>"
            ]
          },
          "metadata": {
            "tags": []
          }
        },
        {
          "output_type": "display_data",
          "data": {
            "image/png": "[encoded data removed]",
            "text/plain": [
              "<Figure size 432x288 with 1 Axes>"
            ]
          },
          "metadata": {
            "tags": []
          }
        }
      ]
    },
    {
      "metadata": {
        "id": "PjNEEPvQN5rC",
        "colab_type": "text"
      },
      "cell_type": "markdown",
      "source": [
        "It is difficult to analyze the dispersion graph because the amount of data is extremely large and the graph is concentrated. So let's create smaller dataframe only with the enrollment numbers and approval numbers of the four semesters so we can group them into a single array.\n"
      ]
    },
    {
      "metadata": {
        "id": "2x_vtfF7MJiD",
        "colab_type": "code",
        "colab": {}
      },
      "cell_type": "code",
      "source": [
        "#20161\n",
        "list_of_series =(study1_20162[\"num_matriculas\"],study1_20162[\"num_aprovacoes\"])\n",
        "a = pd.concat(list_of_series, axis=1)\n",
        "a[\"num_matriculas\"] = a[\"num_matriculas\"].astype(int)\n",
        "a[\"num_aprovacoes\"] = a[\"num_aprovacoes\"].astype(int)\n",
        "#20162\n",
        "list_of_series =(study1_20171[\"num_matriculas\"],study1_20171[\"num_aprovacoes\"])\n",
        "b = pd.concat(list_of_series, axis=1)\n",
        "b[\"num_matriculas\"] = b[\"num_matriculas\"].astype(int)\n",
        "b[\"num_aprovacoes\"] = b[\"num_aprovacoes\"].astype(int)\n",
        "#20171\n",
        "list_of_series =(study1_20172[\"num_matriculas\"],study1_20172[\"num_aprovacoes\"])\n",
        "c = pd.concat(list_of_series, axis=1)\n",
        "c[\"num_matriculas\"] = c[\"num_matriculas\"].astype(int)\n",
        "c[\"num_aprovacoes\"] = c[\"num_aprovacoes\"].astype(int)\n",
        "#20172\n",
        "list_of_series =(study1_20161[\"num_matriculas\"],study1_20161[\"num_aprovacoes\"])\n",
        "d = pd.concat(list_of_series, axis=1)\n",
        "d[\"num_matriculas\"] = d[\"num_matriculas\"].astype(int)\n",
        "d[\"num_aprovacoes\"] = d[\"num_aprovacoes\"].astype(int)"
      ],
      "execution_count": 0,
      "outputs": []
    },
    {
      "metadata": {
        "id": "my7fCmxuMLrO",
        "colab_type": "code",
        "colab": {}
      },
      "cell_type": "code",
      "source": [
        "matrix = np.zeros(shape=(13,14))\n",
        "def probabilidade(row):\n",
        "    matrix[row.num_matriculas-1][row.num_aprovacoes] += 1"
      ],
      "execution_count": 0,
      "outputs": []
    },
    {
      "metadata": {
        "id": "l4SkJO2PMNMU",
        "colab_type": "code",
        "outputId": "85485efa-3b10-4afe-c19b-ebb6f6d26a34",
        "colab": {
          "base_uri": "https://localhost:8080/",
          "height": 198
        }
      },
      "cell_type": "code",
      "source": [
        "a.apply(probabilidade, axis=1)\n",
        "b.apply(probabilidade, axis=1)\n",
        "c.apply(probabilidade, axis=1)\n",
        "d.apply(probabilidade, axis=1)\n",
        "a.head()\n"
      ],
      "execution_count": 0,
      "outputs": [
        {
          "output_type": "execute_result",
          "data": {
            "text/html": [
              "<div>\n",
              "<style scoped>\n",
              "    .dataframe tbody tr th:only-of-type {\n",
              "        vertical-align: middle;\n",
              "    }\n",
              "\n",
              "    .dataframe tbody tr th {\n",
              "        vertical-align: top;\n",
              "    }\n",
              "\n",
              "    .dataframe thead th {\n",
              "        text-align: right;\n",
              "    }\n",
              "</style>\n",
              "<table border=\"1\" class=\"dataframe\">\n",
              "  <thead>\n",
              "    <tr style=\"text-align: right;\">\n",
              "      <th></th>\n",
              "      <th>num_matriculas</th>\n",
              "      <th>num_aprovacoes</th>\n",
              "    </tr>\n",
              "  </thead>\n",
              "  <tbody>\n",
              "    <tr>\n",
              "      <th>0</th>\n",
              "      <td>6</td>\n",
              "      <td>5</td>\n",
              "    </tr>\n",
              "    <tr>\n",
              "      <th>1</th>\n",
              "      <td>6</td>\n",
              "      <td>5</td>\n",
              "    </tr>\n",
              "    <tr>\n",
              "      <th>2</th>\n",
              "      <td>6</td>\n",
              "      <td>5</td>\n",
              "    </tr>\n",
              "    <tr>\n",
              "      <th>3</th>\n",
              "      <td>6</td>\n",
              "      <td>5</td>\n",
              "    </tr>\n",
              "    <tr>\n",
              "      <th>4</th>\n",
              "      <td>6</td>\n",
              "      <td>5</td>\n",
              "    </tr>\n",
              "  </tbody>\n",
              "</table>\n",
              "</div>"
            ],
            "text/plain": [
              "   num_matriculas  num_aprovacoes\n",
              "0               6               5\n",
              "1               6               5\n",
              "2               6               5\n",
              "3               6               5\n",
              "4               6               5"
            ]
          },
          "metadata": {
            "tags": []
          },
          "execution_count": 114
        }
      ]
    },
    {
      "metadata": {
        "id": "O9dZb-UmMPAU",
        "colab_type": "code",
        "outputId": "03a89c12-2bbf-4e2a-cc2f-6e26a9376aff",
        "colab": {
          "base_uri": "https://localhost:8080/",
          "height": 344
        }
      },
      "cell_type": "code",
      "source": [
        "#data frame/matrix quadrada numero de matriculas por numero de aprovacoes(em porcetagem)\n",
        "result = pd.DataFrame(matrix,index=['1','2','3','4','5','6','7','8','9','10','11','12','13'],columns=['0','1','2','3','4','5','6','7','8','9','10','11','12','13'])\n",
        "result[['0','1','2','3','4','5','6','7','8','9','10','11','12','13']] = result[['0','1','2','3','4','5','6','7','8','9','10','11','12','13']].apply(lambda x: (x/x.sum())*100, axis=1)\n",
        "result.style.set_precision(3)\n",
        "sns.heatmap(result,annot=True,cmap=\"Blues\")\n",
        "plt.title(\"\\nthe rates of approvals by number of enrollments\\n\")\n",
        "\n",
        "plt.ylabel(\"NUMERO DE MATRICULAS\")\n",
        "plt.xlabel(\"NUMERO DE APROVACOES\")"
      ],
      "execution_count": 0,
      "outputs": [
        {
          "output_type": "execute_result",
          "data": {
            "text/plain": [
              "Text(0.5, 15.0, 'NUMERO DE APROVACOES')"
            ]
          },
          "metadata": {
            "tags": []
          },
          "execution_count": 134
        },
        {
          "output_type": "display_data",
          "data": {
            "image/png": "[encoded data removed]",
            "text/plain": [
              "<Figure size 432x288 with 2 Axes>"
            ]
          },
          "metadata": {
            "tags": []
          }
        }
      ]
    },
    {
      "metadata": {
        "id": "O0jZalFHjBDZ",
        "colab_type": "text"
      },
      "cell_type": "markdown",
      "source": [
        "After filtering and grouping the data of the four analyzed semesters, we arrive at this graph, which shows the approval rate that each group of students (by number of registrations).\n",
        "\n",
        "This is the general picture of ufrn considering several courses and areas. \n",
        "\n",
        "We see that lower enrollment rates have a high approval rate and that the study end (13 enrollments) also have a high rate (46%). \n",
        "\n",
        "Students with high numbers (8 to 11) are the students who are least approved in all subjects, their rates are well dispersed.\n"
      ]
    },
    {
      "metadata": {
        "id": "zWHWD5voKYxV",
        "colab_type": "text"
      },
      "cell_type": "markdown",
      "source": [
        "# 4. The Relation between the Number of Enrollments of a Student and the Absenteeism"
      ]
    },
    {
      "metadata": {
        "id": "khIXBpSXX8xh",
        "colab_type": "text"
      },
      "cell_type": "markdown",
      "source": [
        "We have to relate the total number of absence with the number of enrollments of each student, to discover what the relation between these informations."
      ]
    },
    {
      "metadata": {
        "id": "ZkkBMAOL_tHs",
        "colab_type": "code",
        "colab": {}
      },
      "cell_type": "code",
      "source": [
        "#Copying the data to do local changes\n",
        "study2_20161=data20161\n",
        "study2_20162=data20162\n",
        "study2_20171=data20171\n",
        "study2_20172=data20172"
      ],
      "execution_count": 0,
      "outputs": []
    },
    {
      "metadata": {
        "id": "GfbzPbAEX7A5",
        "colab_type": "text"
      },
      "cell_type": "markdown",
      "source": [
        "After copy the data bases, we remove the number of absence that is discrepant, to become this more realistic study."
      ]
    },
    {
      "metadata": {
        "id": "DeSEwHqkagwN",
        "colab_type": "code",
        "colab": {}
      },
      "cell_type": "code",
      "source": [
        "#function to define the outlier upper limit of absences\n",
        "def drop_outliers_sup(data_pandas):\n",
        "  first_quatil = data_pandas.quantile(0.25)\n",
        "  third_quatil = data_pandas.quantile(0.75)\n",
        "  iqr = third_quatil - first_quatil\n",
        "  sup = (third_quatil + 1.5) * iqr\n",
        "  return sup"
      ],
      "execution_count": 0,
      "outputs": []
    },
    {
      "metadata": {
        "id": "3frXKCc1cICe",
        "colab_type": "code",
        "colab": {}
      },
      "cell_type": "code",
      "source": [
        "sup_20161 = drop_outliers_sup(study2_20161.numero_total_faltas)\n",
        "study2_20161 = study2_20161[~(study2_20161.numero_total_faltas > sup_20161)]\n",
        "\n",
        "sup_20162 = drop_outliers_sup(study2_20162.numero_total_faltas)\n",
        "study2_20162 = study2_20162[~(study2_20162.numero_total_faltas > sup_20162)]\n",
        "\n",
        "sup_20171 = drop_outliers_sup(study2_20171.numero_total_faltas)\n",
        "study2_20171 = study2_20171[~(study2_20171.numero_total_faltas > sup_20171)]\n",
        "\n",
        "sup_20172 = drop_outliers_sup(study2_20172.numero_total_faltas)\n",
        "study2_20172 = study2_20172[~(study2_20172.numero_total_faltas > sup_20172)]\n"
      ],
      "execution_count": 0,
      "outputs": []
    },
    {
      "metadata": {
        "id": "9kv7HA1XY1jK",
        "colab_type": "text"
      },
      "cell_type": "markdown",
      "source": [
        "After clean the data bases, we define a function that return a dictionary where the key is the number of enrollments and the value is the average of the number of absence of the students that are enrollment in this amount of enrollments."
      ]
    },
    {
      "metadata": {
        "id": "3YFP1cSt97ur",
        "colab_type": "code",
        "colab": {}
      },
      "cell_type": "code",
      "source": [
        "def dictionary_nenrollments_absence(df) :\n",
        "  dict = {}\n",
        "  list = df.num_matriculas.unique()\n",
        "  for num_mat in list :\n",
        "    dict[num_mat] = df.loc[df.num_matriculas == num_mat].numero_total_faltas.std()\n",
        "  return dict"
      ],
      "execution_count": 0,
      "outputs": []
    },
    {
      "metadata": {
        "id": "GliS05ln_bLA",
        "colab_type": "code",
        "colab": {}
      },
      "cell_type": "code",
      "source": [
        "dict20161 = dictionary_nenrollments_absence(study2_20161)\n",
        "dict20162 = dictionary_nenrollments_absence(study2_20162)\n",
        "dict20171 = dictionary_nenrollments_absence(study2_20171)\n",
        "dict20172 = dictionary_nenrollments_absence(study2_20172)"
      ],
      "execution_count": 0,
      "outputs": []
    },
    {
      "metadata": {
        "id": "4COnn_fXZW2z",
        "colab_type": "text"
      },
      "cell_type": "markdown",
      "source": [
        "The dictionaries allow us to generate a graph that shows the relation between those informations: enrollments and absences."
      ]
    },
    {
      "metadata": {
        "id": "2AYcYVQX_q4i",
        "colab_type": "code",
        "colab": {}
      },
      "cell_type": "code",
      "source": [
        "def create_graph_study2(dict, semester) :\n",
        "  plt.bar(dict.keys(), dict.values()) #Criando o gráfico\n",
        "  plt.title('Relação do Número de Disciplinas Matriculadas com Número de Faltas - '+ semester) #adicionando o título\n",
        "  plt.xlabel('Quantidade de Disciplinas')\n",
        "  plt.ylabel('Número de Faltas (Média)')\n",
        "  plt.show()"
      ],
      "execution_count": 0,
      "outputs": []
    },
    {
      "metadata": {
        "id": "6MI8s-BmAeYD",
        "colab_type": "code",
        "outputId": "9668d141-0c89-404d-a28c-6ccfacc6bbf8",
        "colab": {
          "base_uri": "https://localhost:8080/",
          "height": 1130
        }
      },
      "cell_type": "code",
      "source": [
        "create_graph_study2(dict20161, \"2016.1\")\n",
        "create_graph_study2(dict20162, \"2016.2\")\n",
        "create_graph_study2(dict20171, \"2017.1\")\n",
        "create_graph_study2(dict20172, \"2017.2\")"
      ],
      "execution_count": 0,
      "outputs": [
        {
          "output_type": "display_data",
          "data": {
            "image/png": "[encoded data removed]",
            "text/plain": [
              "<Figure size 432x288 with 1 Axes>"
            ]
          },
          "metadata": {
            "tags": []
          }
        },
        {
          "output_type": "display_data",
          "data": {
            "image/png": "[encoded data removed]",
            "text/plain": [
              "<Figure size 432x288 with 1 Axes>"
            ]
          },
          "metadata": {
            "tags": []
          }
        },
        {
          "output_type": "display_data",
          "data": {
            "image/png": "[encoded data removed]",
            "text/plain": [
              "<Figure size 432x288 with 1 Axes>"
            ]
          },
          "metadata": {
            "tags": []
          }
        },
        {
          "output_type": "display_data",
          "data": {
            "image/png": "[encoded data removed]",
            "text/plain": [
              "<Figure size 432x288 with 1 Axes>"
            ]
          },
          "metadata": {
            "tags": []
          }
        }
      ]
    },
    {
      "metadata": {
        "id": "yQKpRW52Kbnu",
        "colab_type": "text"
      },
      "cell_type": "markdown",
      "source": [
        "# 5. The Relation between the Numer of Enrollments of a Student and the Final Grade with the Average Course Grade"
      ]
    },
    {
      "metadata": {
        "id": "WxCGQvshcyvi",
        "colab_type": "text"
      },
      "cell_type": "markdown",
      "source": [
        "In this study we don't think about the data distribuited in semesters, so we concatenate all data frames to use them together."
      ]
    },
    {
      "metadata": {
        "id": "g7dQVtCJWTW-",
        "colab_type": "code",
        "colab": {}
      },
      "cell_type": "code",
      "source": [
        "#we concatenate the dataframes\n",
        "study21adm = pd.concat([data20161,data20162,data20171,data20172])\n",
        "study22medicine = pd.concat([data20161,data20162,data20171,data20172])\n",
        "study23ti = pd.concat([data20161,data20162,data20171,data20172])"
      ],
      "execution_count": 0,
      "outputs": []
    },
    {
      "metadata": {
        "id": "t-q8dU-ndEoc",
        "colab_type": "text"
      },
      "cell_type": "markdown",
      "source": [
        "So we decide to choose three important courses of UFRN, that is Business, Information Technology and Medicine."
      ]
    },
    {
      "metadata": {
        "id": "ATPX6CFIWVlu",
        "colab_type": "code",
        "outputId": "546d79cf-2655-4478-9d49-dcbdda87f80a",
        "colab": {
          "base_uri": "https://localhost:8080/",
          "height": 1353
        }
      },
      "cell_type": "code",
      "source": [
        "#we choose these courses: Administração, medicina Bacharel em Tecnologia da Informação\n",
        "# study21 = study21.pivot_table(index=\"id_turma\",columns='num_matriculas',values='media_final',aggfunc='count')\n",
        "mean20162 = study21adm.pivot_table(index=\"discente\", values=\"media_final\", aggfunc=np.mean)\n",
        "mean20171 = study22medicine.pivot_table(index=\"discente\", values=\"media_final\", aggfunc=np.mean)\n",
        "mean20172 = study23ti.pivot_table(index=\"discente\",values=\"media_final\", aggfunc=np.mean)\n",
        "def store_values20162(row):\n",
        "    return mean20162.get_value(row.discente, 'media_final')\n",
        "study21adm['media_final'] = study21adm.apply(store_values20162, axis=1)\n",
        "def store_values20171(row):\n",
        "    return mean20171.get_value(row.discente, 'media_final')\n",
        "study22medicine['media_final'] = study22medicine.apply(store_values20171, axis=1)\n",
        "def store_values20172(row):\n",
        "    return mean20172.get_value(row.discente, 'media_final')\n",
        "study23ti['media_final'] = study23ti.apply(store_values20172, axis=1)\n"
      ],
      "execution_count": 0,
      "outputs": [
        {
          "output_type": "stream",
          "text": [
            "/usr/local/lib/python3.6/dist-packages/ipykernel_launcher.py:5: FutureWarning: get_value is deprecated and will be removed in a future release. Please use .at[] or .iat[] accessors instead\n",
            "  \"\"\"\n"
          ],
          "name": "stderr"
        },
        {
          "output_type": "error",
          "ename": "KeyError",
          "evalue": "ignored",
          "traceback": [
            "\u001b[0;31m---------------------------------------------------------------------------\u001b[0m",
            "\u001b[0;31mKeyError\u001b[0m                                  Traceback (most recent call last)",
            "\u001b[0;32m<ipython-input-124-af5b20062b97>\u001b[0m in \u001b[0;36m<module>\u001b[0;34m()\u001b[0m\n\u001b[1;32m      4\u001b[0m \u001b[0;32mdef\u001b[0m \u001b[0mstore_values20162\u001b[0m\u001b[0;34m(\u001b[0m\u001b[0mrow\u001b[0m\u001b[0;34m)\u001b[0m\u001b[0;34m:\u001b[0m\u001b[0;34m\u001b[0m\u001b[0;34m\u001b[0m\u001b[0m\n\u001b[1;32m      5\u001b[0m     \u001b[0;32mreturn\u001b[0m \u001b[0mmean20162\u001b[0m\u001b[0;34m.\u001b[0m\u001b[0mget_value\u001b[0m\u001b[0;34m(\u001b[0m\u001b[0mrow\u001b[0m\u001b[0;34m.\u001b[0m\u001b[0mdiscente\u001b[0m\u001b[0;34m,\u001b[0m \u001b[0;34m'media_final'\u001b[0m\u001b[0;34m)\u001b[0m\u001b[0;34m\u001b[0m\u001b[0;34m\u001b[0m\u001b[0m\n\u001b[0;32m----> 6\u001b[0;31m \u001b[0mstudy21adm\u001b[0m\u001b[0;34m[\u001b[0m\u001b[0;34m'media_final'\u001b[0m\u001b[0;34m]\u001b[0m \u001b[0;34m=\u001b[0m \u001b[0mstudy21adm\u001b[0m\u001b[0;34m.\u001b[0m\u001b[0mapply\u001b[0m\u001b[0;34m(\u001b[0m\u001b[0mstore_values20162\u001b[0m\u001b[0;34m,\u001b[0m \u001b[0maxis\u001b[0m\u001b[0;34m=\u001b[0m\u001b[0;36m1\u001b[0m\u001b[0;34m)\u001b[0m\u001b[0;34m\u001b[0m\u001b[0;34m\u001b[0m\u001b[0m\n\u001b[0m\u001b[1;32m      7\u001b[0m \u001b[0;32mdef\u001b[0m \u001b[0mstore_values20171\u001b[0m\u001b[0;34m(\u001b[0m\u001b[0mrow\u001b[0m\u001b[0;34m)\u001b[0m\u001b[0;34m:\u001b[0m\u001b[0;34m\u001b[0m\u001b[0;34m\u001b[0m\u001b[0m\n\u001b[1;32m      8\u001b[0m     \u001b[0;32mreturn\u001b[0m \u001b[0mmean20171\u001b[0m\u001b[0;34m.\u001b[0m\u001b[0mget_value\u001b[0m\u001b[0;34m(\u001b[0m\u001b[0mrow\u001b[0m\u001b[0;34m.\u001b[0m\u001b[0mdiscente\u001b[0m\u001b[0;34m,\u001b[0m \u001b[0;34m'media_final'\u001b[0m\u001b[0;34m)\u001b[0m\u001b[0;34m\u001b[0m\u001b[0;34m\u001b[0m\u001b[0m\n",
            "\u001b[0;32m/usr/local/lib/python3.6/dist-packages/pandas/core/frame.py\u001b[0m in \u001b[0;36mapply\u001b[0;34m(self, func, axis, broadcast, raw, reduce, result_type, args, **kwds)\u001b[0m\n\u001b[1;32m   6012\u001b[0m                          \u001b[0margs\u001b[0m\u001b[0;34m=\u001b[0m\u001b[0margs\u001b[0m\u001b[0;34m,\u001b[0m\u001b[0;34m\u001b[0m\u001b[0;34m\u001b[0m\u001b[0m\n\u001b[1;32m   6013\u001b[0m                          kwds=kwds)\n\u001b[0;32m-> 6014\u001b[0;31m         \u001b[0;32mreturn\u001b[0m \u001b[0mop\u001b[0m\u001b[0;34m.\u001b[0m\u001b[0mget_result\u001b[0m\u001b[0;34m(\u001b[0m\u001b[0;34m)\u001b[0m\u001b[0;34m\u001b[0m\u001b[0;34m\u001b[0m\u001b[0m\n\u001b[0m\u001b[1;32m   6015\u001b[0m \u001b[0;34m\u001b[0m\u001b[0m\n\u001b[1;32m   6016\u001b[0m     \u001b[0;32mdef\u001b[0m \u001b[0mapplymap\u001b[0m\u001b[0;34m(\u001b[0m\u001b[0mself\u001b[0m\u001b[0;34m,\u001b[0m \u001b[0mfunc\u001b[0m\u001b[0;34m)\u001b[0m\u001b[0;34m:\u001b[0m\u001b[0;34m\u001b[0m\u001b[0;34m\u001b[0m\u001b[0m\n",
            "\u001b[0;32m/usr/local/lib/python3.6/dist-packages/pandas/core/apply.py\u001b[0m in \u001b[0;36mget_result\u001b[0;34m(self)\u001b[0m\n\u001b[1;32m    140\u001b[0m             \u001b[0;32mreturn\u001b[0m \u001b[0mself\u001b[0m\u001b[0;34m.\u001b[0m\u001b[0mapply_raw\u001b[0m\u001b[0;34m(\u001b[0m\u001b[0;34m)\u001b[0m\u001b[0;34m\u001b[0m\u001b[0;34m\u001b[0m\u001b[0m\n\u001b[1;32m    141\u001b[0m \u001b[0;34m\u001b[0m\u001b[0m\n\u001b[0;32m--> 142\u001b[0;31m         \u001b[0;32mreturn\u001b[0m \u001b[0mself\u001b[0m\u001b[0;34m.\u001b[0m\u001b[0mapply_standard\u001b[0m\u001b[0;34m(\u001b[0m\u001b[0;34m)\u001b[0m\u001b[0;34m\u001b[0m\u001b[0;34m\u001b[0m\u001b[0m\n\u001b[0m\u001b[1;32m    143\u001b[0m \u001b[0;34m\u001b[0m\u001b[0m\n\u001b[1;32m    144\u001b[0m     \u001b[0;32mdef\u001b[0m \u001b[0mapply_empty_result\u001b[0m\u001b[0;34m(\u001b[0m\u001b[0mself\u001b[0m\u001b[0;34m)\u001b[0m\u001b[0;34m:\u001b[0m\u001b[0;34m\u001b[0m\u001b[0;34m\u001b[0m\u001b[0m\n",
            "\u001b[0;32m/usr/local/lib/python3.6/dist-packages/pandas/core/apply.py\u001b[0m in \u001b[0;36mapply_standard\u001b[0;34m(self)\u001b[0m\n\u001b[1;32m    246\u001b[0m \u001b[0;34m\u001b[0m\u001b[0m\n\u001b[1;32m    247\u001b[0m         \u001b[0;31m# compute the result using the series generator\u001b[0m\u001b[0;34m\u001b[0m\u001b[0;34m\u001b[0m\u001b[0;34m\u001b[0m\u001b[0m\n\u001b[0;32m--> 248\u001b[0;31m         \u001b[0mself\u001b[0m\u001b[0;34m.\u001b[0m\u001b[0mapply_series_generator\u001b[0m\u001b[0;34m(\u001b[0m\u001b[0;34m)\u001b[0m\u001b[0;34m\u001b[0m\u001b[0;34m\u001b[0m\u001b[0m\n\u001b[0m\u001b[1;32m    249\u001b[0m \u001b[0;34m\u001b[0m\u001b[0m\n\u001b[1;32m    250\u001b[0m         \u001b[0;31m# wrap results\u001b[0m\u001b[0;34m\u001b[0m\u001b[0;34m\u001b[0m\u001b[0;34m\u001b[0m\u001b[0m\n",
            "\u001b[0;32m/usr/local/lib/python3.6/dist-packages/pandas/core/apply.py\u001b[0m in \u001b[0;36mapply_series_generator\u001b[0;34m(self)\u001b[0m\n\u001b[1;32m    275\u001b[0m             \u001b[0;32mtry\u001b[0m\u001b[0;34m:\u001b[0m\u001b[0;34m\u001b[0m\u001b[0;34m\u001b[0m\u001b[0m\n\u001b[1;32m    276\u001b[0m                 \u001b[0;32mfor\u001b[0m \u001b[0mi\u001b[0m\u001b[0;34m,\u001b[0m \u001b[0mv\u001b[0m \u001b[0;32min\u001b[0m \u001b[0menumerate\u001b[0m\u001b[0;34m(\u001b[0m\u001b[0mseries_gen\u001b[0m\u001b[0;34m)\u001b[0m\u001b[0;34m:\u001b[0m\u001b[0;34m\u001b[0m\u001b[0;34m\u001b[0m\u001b[0m\n\u001b[0;32m--> 277\u001b[0;31m                     \u001b[0mresults\u001b[0m\u001b[0;34m[\u001b[0m\u001b[0mi\u001b[0m\u001b[0;34m]\u001b[0m \u001b[0;34m=\u001b[0m \u001b[0mself\u001b[0m\u001b[0;34m.\u001b[0m\u001b[0mf\u001b[0m\u001b[0;34m(\u001b[0m\u001b[0mv\u001b[0m\u001b[0;34m)\u001b[0m\u001b[0;34m\u001b[0m\u001b[0;34m\u001b[0m\u001b[0m\n\u001b[0m\u001b[1;32m    278\u001b[0m                     \u001b[0mkeys\u001b[0m\u001b[0;34m.\u001b[0m\u001b[0mappend\u001b[0m\u001b[0;34m(\u001b[0m\u001b[0mv\u001b[0m\u001b[0;34m.\u001b[0m\u001b[0mname\u001b[0m\u001b[0;34m)\u001b[0m\u001b[0;34m\u001b[0m\u001b[0;34m\u001b[0m\u001b[0m\n\u001b[1;32m    279\u001b[0m             \u001b[0;32mexcept\u001b[0m \u001b[0mException\u001b[0m \u001b[0;32mas\u001b[0m \u001b[0me\u001b[0m\u001b[0;34m:\u001b[0m\u001b[0;34m\u001b[0m\u001b[0;34m\u001b[0m\u001b[0m\n",
            "\u001b[0;32m<ipython-input-124-af5b20062b97>\u001b[0m in \u001b[0;36mstore_values20162\u001b[0;34m(row)\u001b[0m\n\u001b[1;32m      3\u001b[0m \u001b[0mmean20172\u001b[0m \u001b[0;34m=\u001b[0m \u001b[0mstudy23ti\u001b[0m\u001b[0;34m.\u001b[0m\u001b[0mpivot_table\u001b[0m\u001b[0;34m(\u001b[0m\u001b[0mindex\u001b[0m\u001b[0;34m=\u001b[0m\u001b[0;34m\"discente\"\u001b[0m\u001b[0;34m,\u001b[0m\u001b[0mvalues\u001b[0m\u001b[0;34m=\u001b[0m\u001b[0;34m\"media_final\"\u001b[0m\u001b[0;34m,\u001b[0m \u001b[0maggfunc\u001b[0m\u001b[0;34m=\u001b[0m\u001b[0mnp\u001b[0m\u001b[0;34m.\u001b[0m\u001b[0mmean\u001b[0m\u001b[0;34m)\u001b[0m\u001b[0;34m\u001b[0m\u001b[0;34m\u001b[0m\u001b[0m\n\u001b[1;32m      4\u001b[0m \u001b[0;32mdef\u001b[0m \u001b[0mstore_values20162\u001b[0m\u001b[0;34m(\u001b[0m\u001b[0mrow\u001b[0m\u001b[0;34m)\u001b[0m\u001b[0;34m:\u001b[0m\u001b[0;34m\u001b[0m\u001b[0;34m\u001b[0m\u001b[0m\n\u001b[0;32m----> 5\u001b[0;31m     \u001b[0;32mreturn\u001b[0m \u001b[0mmean20162\u001b[0m\u001b[0;34m.\u001b[0m\u001b[0mget_value\u001b[0m\u001b[0;34m(\u001b[0m\u001b[0mrow\u001b[0m\u001b[0;34m.\u001b[0m\u001b[0mdiscente\u001b[0m\u001b[0;34m,\u001b[0m \u001b[0;34m'media_final'\u001b[0m\u001b[0;34m)\u001b[0m\u001b[0;34m\u001b[0m\u001b[0;34m\u001b[0m\u001b[0m\n\u001b[0m\u001b[1;32m      6\u001b[0m \u001b[0mstudy21adm\u001b[0m\u001b[0;34m[\u001b[0m\u001b[0;34m'media_final'\u001b[0m\u001b[0;34m]\u001b[0m \u001b[0;34m=\u001b[0m \u001b[0mstudy21adm\u001b[0m\u001b[0;34m.\u001b[0m\u001b[0mapply\u001b[0m\u001b[0;34m(\u001b[0m\u001b[0mstore_values20162\u001b[0m\u001b[0;34m,\u001b[0m \u001b[0maxis\u001b[0m\u001b[0;34m=\u001b[0m\u001b[0;36m1\u001b[0m\u001b[0;34m)\u001b[0m\u001b[0;34m\u001b[0m\u001b[0;34m\u001b[0m\u001b[0m\n\u001b[1;32m      7\u001b[0m \u001b[0;32mdef\u001b[0m \u001b[0mstore_values20171\u001b[0m\u001b[0;34m(\u001b[0m\u001b[0mrow\u001b[0m\u001b[0;34m)\u001b[0m\u001b[0;34m:\u001b[0m\u001b[0;34m\u001b[0m\u001b[0;34m\u001b[0m\u001b[0m\n",
            "\u001b[0;32m/usr/local/lib/python3.6/dist-packages/pandas/core/frame.py\u001b[0m in \u001b[0;36mget_value\u001b[0;34m(self, index, col, takeable)\u001b[0m\n\u001b[1;32m   2525\u001b[0m                       \u001b[0;34m\".at[] or .iat[] accessors instead\"\u001b[0m\u001b[0;34m,\u001b[0m \u001b[0mFutureWarning\u001b[0m\u001b[0;34m,\u001b[0m\u001b[0;34m\u001b[0m\u001b[0;34m\u001b[0m\u001b[0m\n\u001b[1;32m   2526\u001b[0m                       stacklevel=2)\n\u001b[0;32m-> 2527\u001b[0;31m         \u001b[0;32mreturn\u001b[0m \u001b[0mself\u001b[0m\u001b[0;34m.\u001b[0m\u001b[0m_get_value\u001b[0m\u001b[0;34m(\u001b[0m\u001b[0mindex\u001b[0m\u001b[0;34m,\u001b[0m \u001b[0mcol\u001b[0m\u001b[0;34m,\u001b[0m \u001b[0mtakeable\u001b[0m\u001b[0;34m=\u001b[0m\u001b[0mtakeable\u001b[0m\u001b[0;34m)\u001b[0m\u001b[0;34m\u001b[0m\u001b[0;34m\u001b[0m\u001b[0m\n\u001b[0m\u001b[1;32m   2528\u001b[0m \u001b[0;34m\u001b[0m\u001b[0m\n\u001b[1;32m   2529\u001b[0m     \u001b[0;32mdef\u001b[0m \u001b[0m_get_value\u001b[0m\u001b[0;34m(\u001b[0m\u001b[0mself\u001b[0m\u001b[0;34m,\u001b[0m \u001b[0mindex\u001b[0m\u001b[0;34m,\u001b[0m \u001b[0mcol\u001b[0m\u001b[0;34m,\u001b[0m \u001b[0mtakeable\u001b[0m\u001b[0;34m=\u001b[0m\u001b[0;32mFalse\u001b[0m\u001b[0;34m)\u001b[0m\u001b[0;34m:\u001b[0m\u001b[0;34m\u001b[0m\u001b[0;34m\u001b[0m\u001b[0m\n",
            "\u001b[0;32m/usr/local/lib/python3.6/dist-packages/pandas/core/frame.py\u001b[0m in \u001b[0;36m_get_value\u001b[0;34m(self, index, col, takeable)\u001b[0m\n\u001b[1;32m   2537\u001b[0m \u001b[0;34m\u001b[0m\u001b[0m\n\u001b[1;32m   2538\u001b[0m         \u001b[0;32mtry\u001b[0m\u001b[0;34m:\u001b[0m\u001b[0;34m\u001b[0m\u001b[0;34m\u001b[0m\u001b[0m\n\u001b[0;32m-> 2539\u001b[0;31m             \u001b[0;32mreturn\u001b[0m \u001b[0mengine\u001b[0m\u001b[0;34m.\u001b[0m\u001b[0mget_value\u001b[0m\u001b[0;34m(\u001b[0m\u001b[0mseries\u001b[0m\u001b[0;34m.\u001b[0m\u001b[0m_values\u001b[0m\u001b[0;34m,\u001b[0m \u001b[0mindex\u001b[0m\u001b[0;34m)\u001b[0m\u001b[0;34m\u001b[0m\u001b[0;34m\u001b[0m\u001b[0m\n\u001b[0m\u001b[1;32m   2540\u001b[0m         \u001b[0;32mexcept\u001b[0m \u001b[0;34m(\u001b[0m\u001b[0mTypeError\u001b[0m\u001b[0;34m,\u001b[0m \u001b[0mValueError\u001b[0m\u001b[0;34m)\u001b[0m\u001b[0;34m:\u001b[0m\u001b[0;34m\u001b[0m\u001b[0;34m\u001b[0m\u001b[0m\n\u001b[1;32m   2541\u001b[0m \u001b[0;34m\u001b[0m\u001b[0m\n",
            "\u001b[0;32mpandas/_libs/index.pyx\u001b[0m in \u001b[0;36mpandas._libs.index.IndexEngine.get_value\u001b[0;34m()\u001b[0m\n",
            "\u001b[0;32mpandas/_libs/index.pyx\u001b[0m in \u001b[0;36mpandas._libs.index.IndexEngine.get_value\u001b[0;34m()\u001b[0m\n",
            "\u001b[0;32mpandas/_libs/index.pyx\u001b[0m in \u001b[0;36mpandas._libs.index.IndexEngine.get_loc\u001b[0;34m()\u001b[0m\n",
            "\u001b[0;32mpandas/_libs/hashtable_class_helper.pxi\u001b[0m in \u001b[0;36mpandas._libs.hashtable.PyObjectHashTable.get_item\u001b[0;34m()\u001b[0m\n",
            "\u001b[0;32mpandas/_libs/hashtable_class_helper.pxi\u001b[0m in \u001b[0;36mpandas._libs.hashtable.PyObjectHashTable.get_item\u001b[0;34m()\u001b[0m\n",
            "\u001b[0;31mKeyError\u001b[0m: ('4de522a069fb3ede1654cf7c372e98ff', 'occurred at index 40')"
          ]
        }
      ]
    },
    {
      "metadata": {
        "id": "BwHo8CYkPrAP",
        "colab_type": "code",
        "colab": {}
      },
      "cell_type": "code",
      "source": [
        "#administração\n",
        "pivotstudy21adm= study21adm.pivot_table(index='curso',values='media_final', aggfunc=np.mean)\n",
        "study21adm = study21adm.pivot_table(index='curso',columns='num_matriculas', values='media_final', aggfunc=np.mean)\n",
        "\n",
        "#medicina\n",
        "pivotstudy22medicine = study22medicine.pivot_table(index='curso',values='media_final', aggfunc=np.mean)\n",
        "study22medicine = study22medicine.pivot_table(index='curso', columns='num_matriculas',values='media_final', aggfunc=np.mean)\n",
        "#TI\n",
        "pivotstudy23ti = study23ti.pivot_table(index='curso',values='media_final', aggfunc=np.mean)\n",
        "study23ti = study23ti.pivot_table(index='curso',columns='num_matriculas',values='media_final',aggfunc=np.mean)\n"
      ],
      "execution_count": 0,
      "outputs": []
    },
    {
      "metadata": {
        "id": "kFeB2BM-jc2K",
        "colab_type": "code",
        "colab": {}
      },
      "cell_type": "code",
      "source": [
        "#reset the dataframes index\n",
        "pivotstudy21adm.reset_index(level=0,inplace=True)\n",
        "study21adm.reset_index(level=0,inplace=True)\n",
        "\n",
        "pivotstudy22medicine.reset_index(level=0,inplace=True)\n",
        "study22medicine.reset_index(level=0, inplace=True)\n",
        "\n",
        "pivotstudy23ti.reset_index(level=0,inplace=True)\n",
        "study23ti.reset_index(level=0,inplace=True)\n",
        "\n",
        "\n",
        "\n"
      ],
      "execution_count": 0,
      "outputs": []
    },
    {
      "metadata": {
        "id": "94XglUsYdvaD",
        "colab_type": "text"
      },
      "cell_type": "markdown",
      "source": [
        "Now we use dictionaries to store the main informations to generate a graph that show the relation between the students final grade and the number of enrollments with the average course grade."
      ]
    },
    {
      "metadata": {
        "id": "5_CDM4zu1E2h",
        "colab_type": "code",
        "colab": {}
      },
      "cell_type": "code",
      "source": [
        "#administracao\n",
        "dictionaryadmins = {}\n",
        "meansadmin = {}\n",
        "meansEnemadm = {}\n",
        "list = study21adm\n",
        "\n",
        "for media_finals in list :\n",
        "  dictionaryadmins[media_finals] = study21adm.loc[0][media_finals]\n",
        "  meansadmin[media_finals] = pivotstudy21adm.loc[0][1]\n",
        "  meansEnemadm[media_finals] = 6.534 #media do enem de manhã e noite, além de ser de acordo com os anos e dividido por 1000\n",
        "  \n",
        "del dictionaryadmins[\"curso\"]\n",
        "del meansadmin[\"curso\"]\n",
        "del meansEnemadm[\"curso\"]\n",
        "\n",
        "\n",
        "plt.plot(dictionaryadmins.keys(), dictionaryadmins.values(),label=\"Média dos alunos de administração\",color=\"black\",marker='s',animated=True)\n",
        "plt.plot(meansadmin.keys(),meansadmin.values(), label='média do curso de adminitração')\n",
        "plt.plot(meansEnemadm.keys(),meansEnemadm.values(), label='Média do ENEM',linestyle=':')\n",
        "plt.title('Relação entre a quantidade de matérias pagas, a média do curso e a média de corte do ENEM no curso de ADMINISTRAÇÃO')\n",
        "plt.xlabel('Quantidade de Disciplinas')\n",
        "plt.ylabel('Média Final')\n",
        "plt.show()\n",
        "\n",
        "\n",
        "#medicina\n",
        "dictionarymedi = {}\n",
        "meansmedi = {}\n",
        "meansEnemmedi = {}\n",
        "\n",
        "\n",
        "list = study22medicine\n",
        "\n",
        "for media_finals in list:\n",
        "   dictionarymedi[media_finals] = study22medicine.loc[66][media_finals]\n",
        "   meansmedi[media_finals] = pivotstudy22medicine.loc[66][1]\n",
        "   meansEnemmedi[media_finals]= 7.712 #media do enem integral, dividida por 1000\n",
        "\n",
        "del dictionarymedi[\"curso\"]\n",
        "del meansmedi[\"curso\"]\n",
        "del meansEnemmedi[\"curso\"]\n",
        "plt.plot(dictionarymedi.keys(), dictionarymedi.values(),label=\"Média dos alunos de Medicina\",color=\"black\",marker='s',animated=True)\n",
        "plt.plot(meansmedi.keys(),meansmedi.values(), label='média do curso de Medicina')\n",
        "plt.plot(meansEnemmedi.keys(),meansEnemmedi.values(), label='Média do ENEM',linestyle=':')\n",
        "plt.title('Relação entre a quantidade de matérias pagas, a média do curso e a média de corte do ENEM no curso de Medicina')\n",
        "plt.xlabel('Quantidade de Disciplinas')\n",
        "plt.ylabel('Média Final')\n",
        "plt.show()\n",
        "\n",
        "\n",
        "#TI\n",
        "dicionarti = {}\n",
        "meansti = {}\n",
        "meansEnemTI = {}\n",
        "\n",
        "list = study23ti\n",
        "\n",
        "for media_finals in list:\n",
        "  dicionarti[media_finals] = study23ti.loc[78][media_finals]\n",
        "  meansti[media_finals] = pivotstudy23ti.loc[78][1]\n",
        "  meansEnemTI[media_finals]= \t6.50\n",
        "del dicionarti[\"curso\"]\n",
        "del meansti[\"curso\"]\n",
        "del meansEnemTI[\"curso\"]\n",
        "plt.plot(dicionarti.keys(), dicionarti.values(),label=\"Média dos alunos de Tecnologia da informação\",color=\"black\",marker='s',animated=True)\n",
        "plt.plot(meansti.keys(),meansti.values(), label='média do curso de Tecnologia da Informação')\n",
        "plt.plot(meansEnemTI.keys(),meansEnemTI.values(), label='Média do ENEM',linestyle=':')\n",
        "plt.title('Relação entre a quantidade de matérias pagas, a média do curso e a média de corte do ENEM no curso de Tecnologia da informação')\n",
        "plt.xlabel('Quantidade de Disciplinas')\n",
        "plt.ylabel('Média Final')\n",
        "plt.show()\n",
        "    \n",
        "\n",
        "   \n"
      ],
      "execution_count": 0,
      "outputs": []
    },
    {
      "metadata": {
        "id": "nj7yQ-MIK-Iw",
        "colab_type": "text"
      },
      "cell_type": "markdown",
      "source": [
        "primeiramente, nós podemos concluir que cada curso tem sua particularidade, administração possui uma peculiaridade, pois quando se paga mais de 8 matérias a média dos alunos tende ficar abaixo da média do curso, entretanto existe um aluno pagando 11 disciplinas que conseguiu reverter esse caso! pois, sua média é de 9.3.\n",
        "Medicina possui uma peculiaridade, poisa sua média é bem alta, e os alunos que pagam 13 disciplinas, também conseguem manter a média alta, apesar de ser menor que a média do curso!\n",
        "Tecnologia da informação, o ideal para se pagar em TI é de 5 a 8 disciplinas, pois depois das 8 disciplinas possui um risco muito alto da média ser menor que a média normal do curso, que é baixa! NÃO existe alunos em TI pagando mais de 10 disciplinas!"
      ]
    },
    {
      "metadata": {
        "id": "2kb7QJzgK9ZY",
        "colab_type": "code",
        "colab": {}
      },
      "cell_type": "code",
      "source": [
        ""
      ],
      "execution_count": 0,
      "outputs": []
    },
    {
      "metadata": {
        "id": "3etdT0Shu6xh",
        "colab_type": "code",
        "colab": {}
      },
      "cell_type": "code",
      "source": [
        "study21adm"
      ],
      "execution_count": 0,
      "outputs": []
    },
    {
      "metadata": {
        "id": "rSMRBqEmKibv",
        "colab_type": "text"
      },
      "cell_type": "markdown",
      "source": [
        "# 6. Conclusion"
      ]
    }
  ]
}